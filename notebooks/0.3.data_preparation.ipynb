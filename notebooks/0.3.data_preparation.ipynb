{
 "cells": [
  {
   "cell_type": "code",
   "execution_count": null,
   "id": "61be56ce",
   "metadata": {},
   "outputs": [],
   "source": [
    "import sys\n",
    "sys.path.append('./rtaUtils')\n",
    "\n",
    "from rtaUtils import data_loading, data_preparation, paths"
   ]
  },
  {
   "cell_type": "code",
   "execution_count": null,
   "id": "95f020f8",
   "metadata": {},
   "outputs": [],
   "source": [
    "numeric_feat   = ['latitude', 'longitude', 'altitude', 'departureDelay', \n",
    "                  'vspeed', 'speed', 'day_of_week', 'track', 'wind_dir_degrees', \n",
    "                  'wind_speed_kt', 'visibility_statute_mi', 'max_temp', 'min_temp',\n",
    "                  'clouds', 'hav_distance']\n",
    "categoric_feat = ['time_of_day', 'operator', 'aerodromeOfDeparture', 'sky_status']\n",
    "objective      = ['RTA']\n",
    "num_features   = len(numeric_feat+categoric_feat)\n",
    "\n",
    "ts_features = ['latitude', 'longitude', 'altitude', 'vspeed', 'speed', 'track', 'hav_distance']\n",
    "nts_features = ['departureDelay', 'day_of_week', 'wind_dir_degrees','wind_speed_kt', \n",
    "                'visibility_statute_mi', 'max_temp', 'min_temp', 'time_of_day', 'operator', \n",
    "                'aerodromeOfDeparture', 'sky_status', 'clouds']\n",
    "\n",
    "feat_dict = {\n",
    "    'numeric':numeric_feat,\n",
    "    'categoric':categoric_feat,\n",
    "    'objective':objective,\n",
    "}"
   ]
  },
  {
   "cell_type": "markdown",
   "id": "49b90b01",
   "metadata": {},
   "source": [
    "# Sampling"
   ]
  },
  {
   "cell_type": "code",
   "execution_count": null,
   "id": "49fcd5cb",
   "metadata": {},
   "outputs": [],
   "source": [
    "sampling = 60\n",
    "\n",
    "months = [f'2022{str(x).rjust(2,\"0\")}' for x in range(10,11)]\n",
    "airport = '*'\n",
    "\n",
    "for month in months:\n",
    "    train_data = data_loading.load_final_data(month, 'train', airport)\n",
    "    test_data  = data_loading.load_final_data(month, 'test', airport)\n",
    "    val_data   = data_loading.load_final_data(month, 'val', airport)\n",
    "        \n",
    "    start_train = train_data.shape[0]\n",
    "    start_test = test_data.shape[0]\n",
    "    start_val = val_data.shape[0]\n",
    "    \n",
    "    train_data = data_preparation.sample_data(train_data, sampling)\n",
    "    test_data = data_preparation.sample_data(test_data, sampling)\n",
    "    val_data = data_preparation.sample_data(val_data, sampling)\n",
    "    \n",
    "    print(f'{month} | ' + \n",
    "          f'train: {start_train:>9,} -> {train_data.shape[0]:>9,} | ' + \n",
    "          f'test: {start_test:>7,} -> {test_data.shape[0]:>7,} | ' + \n",
    "          f'val: {start_val:>6,} -> {val_data.shape[0]:>6,}')\n",
    "    \n",
    "    train_data.to_parquet(paths.sampled_data_path / f's{sampling}/{month}.train.parquet')\n",
    "    test_data.to_parquet(paths.sampled_data_path / f's{sampling}/{month}.test.parquet')\n",
    "    val_data.to_parquet(paths.sampled_data_path / f's{sampling}/{month}.val.parquet')"
   ]
  },
  {
   "cell_type": "markdown",
   "id": "3ba62b9b",
   "metadata": {},
   "source": [
    "# Windowing"
   ]
  },
  {
   "cell_type": "code",
   "execution_count": null,
   "id": "524c32db",
   "metadata": {},
   "outputs": [],
   "source": [
    "sampling = 60\n",
    "lookback = 32\n",
    "\n",
    "months = [f'2022{str(x).rjust(2,\"0\")}' for x in range(1,10)]\n",
    "airport = '*'\n",
    "\n",
    "for month in months:\n",
    "    data_preparation.generate_save_windows(month, lookback, sampling, feat_dict, airport)"
   ]
  },
  {
   "cell_type": "code",
   "execution_count": null,
   "id": "3b6093a4",
   "metadata": {},
   "outputs": [],
   "source": []
  }
 ],
 "metadata": {
  "kernelspec": {
   "display_name": "Python 3 (ipykernel)",
   "language": "python",
   "name": "python3"
  },
  "language_info": {
   "codemirror_mode": {
    "name": "ipython",
    "version": 3
   },
   "file_extension": ".py",
   "mimetype": "text/x-python",
   "name": "python",
   "nbconvert_exporter": "python",
   "pygments_lexer": "ipython3",
   "version": "3.9.16"
  }
 },
 "nbformat": 4,
 "nbformat_minor": 5
}
