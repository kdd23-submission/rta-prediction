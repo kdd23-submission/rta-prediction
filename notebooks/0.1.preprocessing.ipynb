{
 "cells": [
  {
   "cell_type": "code",
   "execution_count": null,
   "id": "6c63d7c8",
   "metadata": {},
   "outputs": [],
   "source": [
    "import numpy as np\n",
    "import pandas as pd\n",
    "import datetime\n",
    "from pathlib import Path \n",
    "import concurrent\n",
    "from tqdm.contrib.concurrent import process_map\n",
    "import plotly.express as px\n",
    "\n",
    "import sys\n",
    "sys.path.append('./rtaUtils')\n",
    "\n",
    "from rtaUtils.paths import *\n",
    "from rtaUtils import sort_vectors, data_cleaning, common, data_loading"
   ]
  },
  {
   "cell_type": "markdown",
   "id": "6941418b",
   "metadata": {},
   "source": [
    "# Sort state vectors"
   ]
  },
  {
   "cell_type": "code",
   "execution_count": null,
   "id": "b5461698",
   "metadata": {},
   "outputs": [],
   "source": [
    "if __name__ == '__main__':\n",
    "    dates = common.get_dates_between(date_start = '2022-07-01', \n",
    "                                     date_end   = '2022-08-31')\n",
    "    \n",
    "    for date in dates:\n",
    "        try:\n",
    "            flights = data_loading.load_raw_data_sort(date)\n",
    "        except IndexError:\n",
    "            continue\n",
    "        indices = data_loading.calculate_indexes(flights)\n",
    "        \n",
    "        us_data = []\n",
    "        for i, (fpId, start_index, end_index) in indices.iterrows():\n",
    "            us_data.append(flights.iloc[start_index:end_index+1].copy())\n",
    "\n",
    "        time_start = datetime.datetime.now().strftime(\"%H:%M:%S\")\n",
    "        print(f'{time_start} Processing: {date.strftime(\"%Y-%m-%d\")} ({len(us_data)} tray)', end='\\r')\n",
    "\n",
    "        with concurrent.futures.ProcessPoolExecutor(max_workers=7) as executor:\n",
    "            result = list(executor.map(sort_vectors.fix_trajectory, us_data))\n",
    "        \n",
    "        if len(result) > 0:\n",
    "            output = pd.concat(result).sort_values(['ordenFinal'])\n",
    "            output.to_parquet(sorted_data_path / f'{date.strftime(\"%Y%m%d\")}.parquet')\n",
    "            \n",
    "        print(f'{time_start} Processed: {date.strftime(\"%Y-%m-%d\")} ({len(us_data)} tray)   ')"
   ]
  },
  {
   "cell_type": "markdown",
   "id": "b9165bce",
   "metadata": {},
   "source": [
    "# Merge and fix data"
   ]
  },
  {
   "cell_type": "code",
   "execution_count": null,
   "id": "5ad66b50",
   "metadata": {},
   "outputs": [],
   "source": [
    "months = [f'2022{str(x).rjust(2,\"0\")}' for x in range(10,11)]\n",
    "\n",
    "for month in months:\n",
    "    output_data = data_loading.load_sorted_data(month)\n",
    "\n",
    "    # Fix RTA values with corrected timestams\n",
    "    output_data['RTA'] = output_data.touchdown - output_data.timestamp\n",
    "    print(f'{month}: {output_data.shape[0]:,} (RTA negativo: {(output_data.RTA<=0).sum()})')\n",
    "    \n",
    "    # Remove RTA<0 and ground=True vectors (irrelevant for estimation)\n",
    "    output_data = output_data[output_data.RTA>0]\n",
    "    output_data = output_data[~output_data.ground]\n",
    "    \n",
    "    output_data = (output_data.pipe(data_cleaning.modify_data_types)\n",
    "                              .pipe(data_cleaning.fill_missing_data)\n",
    "                              .pipe(data_cleaning.remove_incorrect)\n",
    "                              .pipe(data_cleaning.include_additional_columns)\n",
    "                              .pipe(data_cleaning.drop_columns)\n",
    "                              .pipe(data_cleaning.drop_duplicates_sort))\n",
    "    \n",
    "    output_data.to_parquet(sorted_data_path / f'{month}.parquet')\n",
    "del output_data"
   ]
  },
  {
   "cell_type": "markdown",
   "id": "08249526",
   "metadata": {},
   "source": [
    "# Outlier removal"
   ]
  },
  {
   "cell_type": "code",
   "execution_count": null,
   "id": "d33e10bf",
   "metadata": {},
   "outputs": [],
   "source": [
    "if __name__ == '__main__':\n",
    "    months = [f'2022{str(x).rjust(2,\"0\")}' for x in range(10,11)]\n",
    "    \n",
    "    for month in months:\n",
    "        data = pd.read_parquet(sorted_data_path / f'{month}.parquet')\n",
    "        indices = data_loading.calculate_indexes(data)\n",
    "\n",
    "        flights = [data.iloc[start:end+1].copy() for idx, (fpId, start, end) in indices.iterrows()]\n",
    "\n",
    "        with concurrent.futures.ProcessPoolExecutor(max_workers=7) as executor:\n",
    "            # result = list(executor.map(data_cleaning.detect_outliers, flights))\n",
    "            result = process_map(data_cleaning.detect_outliers, flights, chunksize=1, desc=month)\n",
    "        flights = pd.concat(result)\n",
    "        \n",
    "        flights.to_parquet(clean_data_path / f'{month}.parquet')"
   ]
  },
  {
   "cell_type": "code",
   "execution_count": null,
   "id": "8aa57dc1",
   "metadata": {},
   "outputs": [],
   "source": []
  }
 ],
 "metadata": {
  "kernelspec": {
   "display_name": "tf",
   "language": "python",
   "name": "tf"
  },
  "language_info": {
   "codemirror_mode": {
    "name": "ipython",
    "version": 3
   },
   "file_extension": ".py",
   "mimetype": "text/x-python",
   "name": "python",
   "nbconvert_exporter": "python",
   "pygments_lexer": "ipython3",
   "version": "3.9.16"
  }
 },
 "nbformat": 4,
 "nbformat_minor": 5
}
