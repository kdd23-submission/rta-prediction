{
 "cells": [
  {
   "cell_type": "code",
   "execution_count": 1,
   "id": "a15353b2",
   "metadata": {},
   "outputs": [
    {
     "name": "stdout",
     "output_type": "stream",
     "text": [
      "[PhysicalDevice(name='/physical_device:CPU:0', device_type='CPU')]\n"
     ]
    }
   ],
   "source": [
    "import tensorflow as tf\n",
    "import pandas as pd\n",
    "import datetime\n",
    "import matplotlib.pyplot as plt\n",
    "\n",
    "import sys\n",
    "sys.path.append('./rtaUtils')\n",
    "\n",
    "from rtaUtils import paths, experiment, data_loading\n",
    "\n",
    "import wandb, os\n",
    "from wandb.keras import WandbCallback\n",
    "os.environ[\"WANDB_SILENT\"] = \"true\"\n",
    "\n",
    "tf.config.set_visible_devices([], 'GPU')\n",
    "visible_devices = tf.config.get_visible_devices()\n",
    "print(visible_devices)\n",
    "for device in visible_devices:\n",
    "    assert device.device_type != 'GPU'\n",
    "    \n",
    "### Features ##################################################################\n",
    "numeric_feat = [\n",
    "    'latitude', 'longitude', 'altitude', 'departureDelay', 'vspeed', 'speed', \n",
    "    'day_of_week', 'track', 'wind_dir_degrees', 'wind_speed_kt', \n",
    "    'visibility_statute_mi', 'max_temp', 'min_temp', 'clouds', 'hav_distance'\n",
    "]\n",
    "categoric_feat = [\n",
    "    'time_of_day', 'operator', 'aerodromeOfDeparture', 'sky_status'\n",
    "]\n",
    "objective = ['RTA']\n",
    "\n",
    "ts_features = [\n",
    "    'latitude', 'longitude', 'altitude', 'vspeed', 'speed', 'track', 'hav_distance'\n",
    "]\n",
    "nts_features = [\n",
    "    'departureDelay', 'day_of_week', 'wind_dir_degrees','wind_speed_kt', \n",
    "    'visibility_statute_mi', 'max_temp', 'min_temp', 'time_of_day', 'operator', \n",
    "    'aerodromeOfDeparture', 'sky_status', 'clouds'\n",
    "]\n",
    "\n",
    "feat_dict = dict(\n",
    "    numeric=numeric_feat,\n",
    "    categoric=categoric_feat,\n",
    "    objective=objective,\n",
    "    ts=ts_features,\n",
    "    nts=nts_features\n",
    ")"
   ]
  },
  {
   "cell_type": "code",
   "execution_count": 2,
   "id": "57366f53",
   "metadata": {},
   "outputs": [],
   "source": [
    "### Experiment setup ##########################################################\n",
    "n_units      = 20\n",
    "lookback     = 64\n",
    "sampling     = 30\n",
    "\n",
    "epochs       = 30\n",
    "\n",
    "act_function = 'tanh'\n",
    "batch_size   = 128\n",
    "from_parquet = True\n",
    "\n",
    "model_config = dict(\n",
    "    n_units=n_units,\n",
    "    act_function=act_function,\n",
    "    batch_size=batch_size,\n",
    ")\n",
    "\n",
    "### Model configuration #######################################################\n",
    "model_type   = 'LSTM_LIMC'\n",
    "months       = '*' # 20220[12]\n",
    "airport      = 'LIMC'\n",
    "glob_text    = f'{months}-{airport}'"
   ]
  },
  {
   "cell_type": "raw",
   "id": "252cbffa",
   "metadata": {},
   "source": [
    "dt = datetime.datetime.now().strftime('%m%d_%H%M')\n",
    "\n",
    "wandb_config = {\n",
    "    'batch_size' : batch_size,\n",
    "    'lookback' : lookback,\n",
    "    'n_units' : n_units,\n",
    "    'sampling' : sampling,\n",
    "    'model_type' : model_type\n",
    "}\n",
    "wandb.init(project='RTAs', config=wandb_config,\n",
    "           name=f'{model_type}_s{sampling}_lb{lookback}_u{n_units}_{dt}'           \n",
    "           # resume='must', id=''\n",
    "          ) \n",
    "wandCallback = WandbCallback(save_model=False)"
   ]
  },
  {
   "cell_type": "markdown",
   "id": "eea4f422",
   "metadata": {},
   "source": [
    "## Entrenamiento"
   ]
  },
  {
   "cell_type": "code",
   "execution_count": 3,
   "id": "b9107369",
   "metadata": {},
   "outputs": [
    {
     "name": "stderr",
     "output_type": "stream",
     "text": [
      "C:\\Users\\Jorge\\anaconda3\\envs\\tf\\lib\\site-packages\\sklearn\\base.py:288: UserWarning: Trying to unpickle estimator LabelEncoder from version 1.1.3 when using version 1.2.0. This might lead to breaking code or invalid results. Use at your own risk. For more info please refer to:\n",
      "https://scikit-learn.org/stable/model_persistence.html#security-maintainability-limitations\n",
      "  warnings.warn(\n",
      "C:\\Users\\Jorge\\anaconda3\\envs\\tf\\lib\\site-packages\\sklearn\\base.py:288: UserWarning: Trying to unpickle estimator MinMaxScaler from version 1.1.3 when using version 1.2.0. This might lead to breaking code or invalid results. Use at your own risk. For more info please refer to:\n",
      "https://scikit-learn.org/stable/model_persistence.html#security-maintainability-limitations\n",
      "  warnings.warn(\n"
     ]
    },
    {
     "name": "stdout",
     "output_type": "stream",
     "text": [
      "Model: \"sequential_1\"\n",
      "_________________________________________________________________\n",
      " Layer (type)                Output Shape              Param #   \n",
      "=================================================================\n",
      " lstm_1 (LSTM)               (None, 20)                3200      \n",
      "                                                                 \n",
      " dense_1 (Dense)             (None, 1)                 21        \n",
      "                                                                 \n",
      " reshape_1 (Reshape)         (None, 1, 1)              0         \n",
      "                                                                 \n",
      "=================================================================\n",
      "Total params: 3,221\n",
      "Trainable params: 3,221\n",
      "Non-trainable params: 0\n",
      "_________________________________________________________________\n"
     ]
    }
   ],
   "source": [
    "experimento = experiment.ExperimentVanilla(\n",
    "    lookback=lookback,\n",
    "    sampling=sampling,\n",
    "    model_config=model_config,\n",
    "    months=months, \n",
    "    airport=airport,\n",
    "    features=feat_dict,\n",
    "    model_type=model_type\n",
    ")\n",
    "experimento.init_model()\n",
    "# experimento.load_model()\n",
    "experimento.model.summary()"
   ]
  },
  {
   "cell_type": "code",
   "execution_count": 4,
   "id": "c2f5190e",
   "metadata": {},
   "outputs": [
    {
     "name": "stdout",
     "output_type": "stream",
     "text": [
      "WARNING:tensorflow:From C:\\Users\\Jorge\\AppData\\Roaming\\Python\\Python39\\site-packages\\tensorflow\\python\\autograph\\pyct\\static_analysis\\liveness.py:83: Analyzer.lamba_check (from tensorflow.python.autograph.pyct.static_analysis.liveness) is deprecated and will be removed after 2023-09-23.\n",
      "Instructions for updating:\n",
      "Lambda fuctions will be no more assumed to be used in the statement where they are used, or at least in the same block. https://github.com/tensorflow/tensorflow/issues/56089\n",
      "Epoch 1/30\n",
      "446/446 [==============================] - 29s 58ms/step - loss: 0.0206 - mean_squared_error: 0.0014 - val_loss: 0.0106 - val_mean_squared_error: 1.9454e-04\n",
      "Epoch 2/30\n",
      "446/446 [==============================] - 26s 59ms/step - loss: 0.0081 - mean_squared_error: 1.2219e-04 - val_loss: 0.0114 - val_mean_squared_error: 2.0758e-04\n",
      "Epoch 3/30\n",
      "446/446 [==============================] - 26s 59ms/step - loss: 0.0077 - mean_squared_error: 1.1081e-04 - val_loss: 0.0103 - val_mean_squared_error: 1.8369e-04\n",
      "Epoch 4/30\n",
      "446/446 [==============================] - 20s 45ms/step - loss: 0.0074 - mean_squared_error: 1.0628e-04 - val_loss: 0.0106 - val_mean_squared_error: 2.0554e-04\n",
      "Epoch 5/30\n",
      "446/446 [==============================] - 25s 57ms/step - loss: 0.0072 - mean_squared_error: 1.0129e-04 - val_loss: 0.0103 - val_mean_squared_error: 1.9317e-04\n",
      "Epoch 6/30\n",
      "446/446 [==============================] - 19s 43ms/step - loss: 0.0071 - mean_squared_error: 9.9861e-05 - val_loss: 0.0108 - val_mean_squared_error: 2.0482e-04\n",
      "Epoch 7/30\n",
      "446/446 [==============================] - 21s 46ms/step - loss: 0.0069 - mean_squared_error: 9.5963e-05 - val_loss: 0.0107 - val_mean_squared_error: 2.0244e-04\n",
      "Epoch 8/30\n",
      "446/446 [==============================] - 20s 45ms/step - loss: 0.0071 - mean_squared_error: 9.8841e-05 - val_loss: 0.0123 - val_mean_squared_error: 2.4650e-04\n",
      "Epoch 9/30\n",
      "446/446 [==============================] - 22s 49ms/step - loss: 0.0070 - mean_squared_error: 9.5854e-05 - val_loss: 0.0100 - val_mean_squared_error: 1.8113e-04\n",
      "Epoch 10/30\n",
      "446/446 [==============================] - 22s 50ms/step - loss: 0.0069 - mean_squared_error: 9.3359e-05 - val_loss: 0.0095 - val_mean_squared_error: 1.7080e-04\n",
      "Epoch 11/30\n",
      "446/446 [==============================] - 21s 46ms/step - loss: 0.0068 - mean_squared_error: 9.2274e-05 - val_loss: 0.0097 - val_mean_squared_error: 1.7450e-04\n",
      "Epoch 12/30\n",
      "446/446 [==============================] - 32s 69ms/step - loss: 0.0066 - mean_squared_error: 8.8959e-05 - val_loss: 0.0096 - val_mean_squared_error: 1.7192e-04\n",
      "Epoch 13/30\n",
      "446/446 [==============================] - 22s 49ms/step - loss: 0.0067 - mean_squared_error: 9.0916e-05 - val_loss: 0.0094 - val_mean_squared_error: 1.6539e-04\n",
      "Epoch 14/30\n",
      "446/446 [==============================] - 23s 52ms/step - loss: 0.0067 - mean_squared_error: 8.9244e-05 - val_loss: 0.0098 - val_mean_squared_error: 1.7659e-04\n",
      "Epoch 15/30\n",
      "446/446 [==============================] - 23s 51ms/step - loss: 0.0066 - mean_squared_error: 8.7500e-05 - val_loss: 0.0082 - val_mean_squared_error: 1.3944e-04\n",
      "Epoch 16/30\n",
      "446/446 [==============================] - 23s 52ms/step - loss: 0.0064 - mean_squared_error: 8.3983e-05 - val_loss: 0.0088 - val_mean_squared_error: 1.5239e-04\n",
      "Epoch 17/30\n",
      "446/446 [==============================] - 26s 58ms/step - loss: 0.0065 - mean_squared_error: 8.5765e-05 - val_loss: 0.0082 - val_mean_squared_error: 1.3554e-04\n",
      "Epoch 18/30\n",
      "446/446 [==============================] - 27s 59ms/step - loss: 0.0064 - mean_squared_error: 8.3234e-05 - val_loss: 0.0082 - val_mean_squared_error: 1.4029e-04\n",
      "Epoch 19/30\n",
      "446/446 [==============================] - 21s 47ms/step - loss: 0.0065 - mean_squared_error: 8.4885e-05 - val_loss: 0.0087 - val_mean_squared_error: 1.4883e-04\n",
      "Epoch 20/30\n",
      "446/446 [==============================] - 20s 45ms/step - loss: 0.0063 - mean_squared_error: 8.3003e-05 - val_loss: 0.0090 - val_mean_squared_error: 1.5787e-04\n",
      "Epoch 21/30\n",
      "446/446 [==============================] - 20s 43ms/step - loss: 0.0063 - mean_squared_error: 8.2517e-05 - val_loss: 0.0082 - val_mean_squared_error: 1.3640e-04\n",
      "Epoch 22/30\n",
      "446/446 [==============================] - 21s 47ms/step - loss: 0.0063 - mean_squared_error: 8.2528e-05 - val_loss: 0.0079 - val_mean_squared_error: 1.3072e-04\n",
      "Epoch 23/30\n",
      "446/446 [==============================] - 21s 47ms/step - loss: 0.0062 - mean_squared_error: 8.0289e-05 - val_loss: 0.0082 - val_mean_squared_error: 1.3761e-04\n",
      "Epoch 24/30\n",
      "446/446 [==============================] - 20s 44ms/step - loss: 0.0063 - mean_squared_error: 8.0807e-05 - val_loss: 0.0080 - val_mean_squared_error: 1.3258e-04\n",
      "Epoch 25/30\n",
      "446/446 [==============================] - 21s 47ms/step - loss: 0.0062 - mean_squared_error: 8.0479e-05 - val_loss: 0.0079 - val_mean_squared_error: 1.3073e-04\n",
      "Epoch 26/30\n",
      "446/446 [==============================] - 20s 45ms/step - loss: 0.0061 - mean_squared_error: 7.8950e-05 - val_loss: 0.0084 - val_mean_squared_error: 1.4128e-04\n",
      "Epoch 27/30\n",
      "446/446 [==============================] - 23s 51ms/step - loss: 0.0061 - mean_squared_error: 7.8731e-05 - val_loss: 0.0085 - val_mean_squared_error: 1.4405e-04\n",
      "Epoch 28/30\n",
      "446/446 [==============================] - 17s 38ms/step - loss: 0.0061 - mean_squared_error: 7.7772e-05 - val_loss: 0.0083 - val_mean_squared_error: 1.3658e-04\n",
      "Epoch 29/30\n",
      "446/446 [==============================] - 19s 43ms/step - loss: 0.0061 - mean_squared_error: 7.7365e-05 - val_loss: 0.0080 - val_mean_squared_error: 1.3269e-04\n",
      "Epoch 30/30\n",
      "446/446 [==============================] - 17s 38ms/step - loss: 0.0060 - mean_squared_error: 7.6259e-05 - val_loss: 0.0082 - val_mean_squared_error: 1.3530e-04\n"
     ]
    }
   ],
   "source": [
    "history = experimento.train(epochs=epochs, from_parquet=from_parquet, add_callbacks = []) \n",
    "# add_callbacks = [wandCallback]"
   ]
  },
  {
   "cell_type": "code",
   "execution_count": 5,
   "id": "2ba50c5a",
   "metadata": {},
   "outputs": [
    {
     "data": {
      "image/png": "[encoded data removed]",
      "text/plain": [
       "<Figure size 640x480 with 1 Axes>"
      ]
     },
     "metadata": {},
     "output_type": "display_data"
    }
   ],
   "source": [
    "progress = pd.read_csv(experimento.model_path_log)\n",
    "skip = 0\n",
    "\n",
    "plt.plot([str(x) for x in range(1+skip,progress.shape[0]+1)], progress['loss'].iloc[skip:], label='loss')\n",
    "plt.plot([str(x) for x in range(1+skip,progress.shape[0]+1)], progress['val_loss'].iloc[skip:], label='validation loss')\n",
    "plt.title(f'{model_type}.u{n_units}lb{lookback}s{sampling}')\n",
    "plt.xlabel('Epochs')\n",
    "plt.ylabel('MAE')\n",
    "if progress.shape[0]>10:\n",
    "    plt.xticks([str(x) for x in range(1+skip,progress.shape[0],progress.shape[0]//5)])\n",
    "plt.legend()\n",
    "plt.tight_layout()\n",
    "plt.show()"
   ]
  },
  {
   "cell_type": "markdown",
   "id": "708e5b22",
   "metadata": {},
   "source": [
    "## Evaluación"
   ]
  },
  {
   "cell_type": "code",
   "execution_count": 6,
   "id": "c551bae2",
   "metadata": {},
   "outputs": [],
   "source": [
    "experimento.load_model('best')"
   ]
  },
  {
   "cell_type": "code",
   "execution_count": 7,
   "id": "0b2d252d",
   "metadata": {},
   "outputs": [
    {
     "name": "stdout",
     "output_type": "stream",
     "text": [
      "95/95 [==============================] - 3s 25ms/step\n",
      "RTA ===================================\n",
      "Test set          | MAE:        200.675\n",
      "                  | RMSE:       263.051\n",
      "                  | Mean:        18.621\n",
      "                  | MAPE:        36.503\n",
      "                  | Muestra:     12,113\n"
     ]
    }
   ],
   "source": [
    "experimento.evaluate(from_parquet=True, print_err=True)"
   ]
  },
  {
   "cell_type": "code",
   "execution_count": 8,
   "id": "698e417c",
   "metadata": {},
   "outputs": [
    {
     "name": "stdout",
     "output_type": "stream",
     "text": [
      "test: Finalizado                                                  \n"
     ]
    }
   ],
   "source": [
    "experimento.evaluate_at_times()"
   ]
  },
  {
   "cell_type": "raw",
   "id": "a1e6d399",
   "metadata": {},
   "source": [
    "experimento.evaluate_airports()"
   ]
  },
  {
   "cell_type": "raw",
   "id": "232cfd3e",
   "metadata": {},
   "source": [
    "# arbitrario\n",
    "feat = 'visibility_statute_mi'\n",
    "for idx, value in enumerate(sorted(test_data[feat].unique())):\n",
    "    data = test_data[test_data[feat] == value].sort_values(by=['fpId','timestamp']).copy()\n",
    "\n",
    "    if data.size < lookback:\n",
    "        continue\n",
    "    print(f'({idx+1}/{len(test_data[feat].unique())}) Evaluando {feat}={value}')\n",
    "    \n",
    "    ds = get_windows2(data,lookback,encoders,scaler,numeric_feat,categoric_feat,objective)\n",
    "    \n",
    "    metrics_values = evaluate_model(ds, print_err = True)"
   ]
  },
  {
   "cell_type": "code",
   "execution_count": null,
   "id": "88abc507",
   "metadata": {},
   "outputs": [],
   "source": []
  },
  {
   "cell_type": "code",
   "execution_count": null,
   "id": "db616398",
   "metadata": {},
   "outputs": [],
   "source": []
  },
  {
   "cell_type": "code",
   "execution_count": 9,
   "id": "d408f1f4",
   "metadata": {},
   "outputs": [
    {
     "data": {
      "text/html": [
       "<div>\n",
       "<style scoped>\n",
       "    .dataframe tbody tr th:only-of-type {\n",
       "        vertical-align: middle;\n",
       "    }\n",
       "\n",
       "    .dataframe tbody tr th {\n",
       "        vertical-align: top;\n",
       "    }\n",
       "\n",
       "    .dataframe thead th {\n",
       "        text-align: right;\n",
       "    }\n",
       "</style>\n",
       "<table border=\"1\" class=\"dataframe\">\n",
       "  <thead>\n",
       "    <tr style=\"text-align: right;\">\n",
       "      <th></th>\n",
       "      <th>dataset</th>\n",
       "      <th>feature</th>\n",
       "      <th>time</th>\n",
       "      <th>MAE</th>\n",
       "      <th>RMSE</th>\n",
       "      <th>MAPE</th>\n",
       "      <th>Mean</th>\n",
       "      <th>Sample</th>\n",
       "    </tr>\n",
       "  </thead>\n",
       "  <tbody>\n",
       "    <tr>\n",
       "      <th>0</th>\n",
       "      <td>test</td>\n",
       "      <td>RTA</td>\n",
       "      <td>all</td>\n",
       "      <td>200.674622</td>\n",
       "      <td>263.050720</td>\n",
       "      <td>36.503132</td>\n",
       "      <td>18.620859</td>\n",
       "      <td>12113</td>\n",
       "    </tr>\n",
       "    <tr>\n",
       "      <th>1</th>\n",
       "      <td>test</td>\n",
       "      <td>RTA</td>\n",
       "      <td>15</td>\n",
       "      <td>154.628571</td>\n",
       "      <td>224.631607</td>\n",
       "      <td>16.663834</td>\n",
       "      <td>-55.419773</td>\n",
       "      <td>79</td>\n",
       "    </tr>\n",
       "    <tr>\n",
       "      <th>2</th>\n",
       "      <td>test</td>\n",
       "      <td>RTA</td>\n",
       "      <td>30</td>\n",
       "      <td>168.813812</td>\n",
       "      <td>231.423721</td>\n",
       "      <td>9.296408</td>\n",
       "      <td>-1.550248</td>\n",
       "      <td>86</td>\n",
       "    </tr>\n",
       "    <tr>\n",
       "      <th>3</th>\n",
       "      <td>test</td>\n",
       "      <td>RTA</td>\n",
       "      <td>60</td>\n",
       "      <td>221.649719</td>\n",
       "      <td>269.610992</td>\n",
       "      <td>6.131233</td>\n",
       "      <td>51.585197</td>\n",
       "      <td>85</td>\n",
       "    </tr>\n",
       "  </tbody>\n",
       "</table>\n",
       "</div>"
      ],
      "text/plain": [
       "  dataset feature time         MAE        RMSE       MAPE       Mean  Sample\n",
       "0    test     RTA  all  200.674622  263.050720  36.503132  18.620859   12113\n",
       "1    test     RTA   15  154.628571  224.631607  16.663834 -55.419773      79\n",
       "2    test     RTA   30  168.813812  231.423721   9.296408  -1.550248      86\n",
       "3    test     RTA   60  221.649719  269.610992   6.131233  51.585197      85"
      ]
     },
     "execution_count": 9,
     "metadata": {},
     "output_type": "execute_result"
    }
   ],
   "source": [
    "experimento.get_evaluation_results('long').head(50)"
   ]
  },
  {
   "cell_type": "code",
   "execution_count": null,
   "id": "931cd2ff",
   "metadata": {},
   "outputs": [],
   "source": [
    "# Exportar a CSV\n",
    "experimento.get_evaluation_results('wide')\\\n",
    "           .to_csv(f'./results/{model_type}_s{sampling}_lb{lookback}_u{n_units}.csv', \n",
    "                 header=True,index=False, encoding='utf8')"
   ]
  },
  {
   "cell_type": "markdown",
   "id": "8d85f199",
   "metadata": {},
   "source": [
    "## Generación de informe"
   ]
  },
  {
   "cell_type": "code",
   "execution_count": null,
   "id": "794efd75",
   "metadata": {},
   "outputs": [],
   "source": [
    "from rtaUtils.experiment import report_columns\n",
    "report_df_long = pd.DataFrame.from_dict(\n",
    "    experimento.results, orient='index',\n",
    "    columns=['dataset','time',*report_columns])\n",
    "report_df = report_df_long.pivot_table(index=['dataset'], columns=['time'], values=report_columns)\n",
    "report_df.columns = [' '.join((str(y) for y in x)) \n",
    "                     for x in report_df.columns.to_flat_index()]\n",
    "report_df = report_df.reset_index()\n",
    "# report_df[[x for x in report_df.columns if report_columns[0] in x]]"
   ]
  },
  {
   "cell_type": "code",
   "execution_count": null,
   "id": "701aac74",
   "metadata": {},
   "outputs": [],
   "source": [
    "report_df"
   ]
  },
  {
   "cell_type": "code",
   "execution_count": null,
   "id": "0f8c227b",
   "metadata": {},
   "outputs": [],
   "source": [
    "report_df.to_csv(f'./results/{model_type}_s{sampling}_lb{lookback}_u{n_units}.csv', \n",
    "                 header=True, encoding='utf8')"
   ]
  },
  {
   "cell_type": "code",
   "execution_count": 13,
   "id": "1da3a8ee",
   "metadata": {},
   "outputs": [],
   "source": [
    "# Exportar a CSV\n",
    "experimento.get_evaluation_results('wide')\\\n",
    "           .to_csv(f'./results/{model_type}_s{sampling}_lb{lookback}_u{n_units}.csv', \n",
    "                 header=True,index=False, encoding='utf8')"
   ]
  },
  {
   "cell_type": "markdown",
   "id": "912be745",
   "metadata": {},
   "source": [
    "## Visualización"
   ]
  },
  {
   "cell_type": "code",
   "execution_count": 1,
   "id": "6d5f12bb",
   "metadata": {},
   "outputs": [],
   "source": [
    "import plotly.express as px"
   ]
  },
  {
   "cell_type": "code",
   "execution_count": 5,
   "id": "5fb5ce36",
   "metadata": {},
   "outputs": [],
   "source": [
    "report_df = pd.read_csv(f'./results/{model_type}_s{sampling}_lb{lookback}_u{n_units}.csv', \n",
    "                        header=0, encoding='utf8')"
   ]
  },
  {
   "cell_type": "code",
   "execution_count": 13,
   "id": "ed359410",
   "metadata": {},
   "outputs": [],
   "source": [
    "vis = pd.merge(\n",
    "    report_df[['MAE all','RMSE all','MAPE all', 'Mean all','Sample all','dataset']],\n",
    "    pd.read_csv('./data/airports.csv', sep = ','),\n",
    "    left_on='dataset', right_on='id'\n",
    ")"
   ]
  },
  {
   "cell_type": "code",
   "execution_count": 14,
   "id": "80e4abfc",
   "metadata": {},
   "outputs": [],
   "source": [
    "td = data_loading.load_final_data(months, 'test')[['aerodromeOfDeparture', 'fpId']].drop_duplicates()\\\n",
    "              .groupby('aerodromeOfDeparture').count()\n",
    "\n",
    "vis = pd.merge(vis, td, left_on='dataset', right_on='aerodromeOfDeparture')"
   ]
  },
  {
   "cell_type": "raw",
   "id": "8d3aa4f4",
   "metadata": {},
   "source": [
    "td = test_data[['aerodromeOfDeparture', 'fpId']].drop_duplicates()\\\n",
    "              .groupby('aerodromeOfDeparture').count()\n",
    "\n",
    "vis = pd.merge(vis, td, left_on='airport', right_on='aerodromeOfDeparture')"
   ]
  },
  {
   "cell_type": "code",
   "execution_count": 15,
   "id": "b40f98c6",
   "metadata": {},
   "outputs": [
    {
     "data": {
      "application/vnd.plotly.v1+json": {
       "config": {
        "plotlyServerURL": "https://plot.ly"
       },
       "data": [
        {
         "customdata": [
          [
           195.09654,
           329.7435,
           7141
          ],
          [
           214.7649,
           347.50543,
           9853
          ],
          [
           135.23784,
           205.7337,
           8637
          ],
          [
           139.2684,
           196.72441,
           5479
          ],
          [
           185.04065,
           314.56442,
           7510
          ],
          [
           129.82997,
           182.96031,
           8922
          ],
          [
           168.64928,
           355.42865,
           8310
          ],
          [
           173.69975,
           224.99814,
           2710
          ],
          [
           178.85786,
           252.80077,
           4545
          ],
          [
           177.98766,
           255.21518,
           3897
          ],
          [
           160.92166,
           243.3997,
           8087
          ],
          [
           167.38528,
           233.11957,
           4535
          ],
          [
           137.5812,
           214.72122,
           5361
          ],
          [
           225.74268,
           319.77982,
           4418
          ],
          [
           222.3777,
           318.94818,
           3325
          ],
          [
           58.45185,
           102.87986,
           423
          ],
          [
           68.10213,
           118.87572,
           1630
          ],
          [
           102.84884,
           197.7809,
           1395
          ],
          [
           59.487953,
           132.58571,
           38
          ],
          [
           78.133575,
           124.140335,
           1167
          ],
          [
           96.563416,
           159.54764,
           4451
          ],
          [
           124.092384,
           277.01953,
           3703
          ],
          [
           154.4186,
           266.1393,
           3803
          ],
          [
           134.77058,
           192.66318,
           5156
          ],
          [
           150.54881,
           252.73741,
           5060
          ],
          [
           93.03929,
           125.28616,
           2369
          ],
          [
           184.75632,
           303.76477,
           4279
          ],
          [
           164.2535,
           219.16069,
           6513
          ],
          [
           121.20345,
           177.24222,
           6249
          ],
          [
           168.49995,
           255.35608,
           6288
          ],
          [
           145.36734,
           224.7541,
           7097
          ],
          [
           154.77704,
           261.70566,
           3751
          ],
          [
           124.13106,
           179.82245,
           2609
          ],
          [
           196.84659,
           267.51282,
           3401
          ],
          [
           199.77931,
           333.79105,
           9672
          ],
          [
           79.62196,
           113.95746,
           1492
          ],
          [
           105.548676,
           182.40198,
           1615
          ],
          [
           172.54408,
           237.43724,
           9574
          ],
          [
           95.201485,
           134.86868,
           5324
          ],
          [
           209.56657,
           323.1928,
           10177
          ]
         ],
         "hovertemplate": "<b>%{hovertext}</b><br><br>fpId=%{marker.size}<br>lat=%{lat}<br>lon=%{lon}<br>MAE all=%{marker.color:.3f}<br>RMSE all=%{customdata[1]:.3f}<br>Sample all=%{customdata[2]:.3f}<extra></extra>",
         "hovertext": [
          "EBBR",
          "EDDB",
          "EDDF",
          "EDDH",
          "EDDL",
          "EDDM",
          "EDDP",
          "EGCC",
          "EGKK",
          "EGLL",
          "EHAM",
          "EIDW",
          "EKCH",
          "EPWA",
          "LBSF",
          "LEBB",
          "LEBL",
          "LECO",
          "LEVC",
          "LEZL",
          "LFLL",
          "LFML",
          "LFMN",
          "LFPG",
          "LFPO",
          "LFRS",
          "LGAV",
          "LHBP",
          "LIMC",
          "LIPE",
          "LIPZ",
          "LIRF",
          "LIRN",
          "LKPR",
          "LOWW",
          "LPPR",
          "LPPT",
          "LROP",
          "LSGG",
          "LTFM"
         ],
         "lat": [
          50.901389,
          52.362247,
          50.033306,
          53.630389,
          51.280925,
          48.353783,
          51.423992,
          53.353889,
          51.148056,
          51.4775,
          52.308056,
          53.421389,
          55.617917,
          52.165833,
          42.695,
          43.301111,
          41.296944,
          43.301944,
          39.489444,
          37.418056,
          45.725556,
          43.436667,
          43.665278,
          49.009722,
          48.723333,
          47.156944,
          37.9367,
          47.439444,
          45.63,
          44.530833,
          45.505278,
          41.800278,
          40.884444,
          50.100833,
          48.110278,
          41.235556,
          38.774167,
          44.571111,
          46.238333,
          41.275278
         ],
         "legendgroup": "",
         "lon": [
          4.484444,
          13.500672,
          8.570456,
          9.988228,
          6.757311,
          11.786086,
          12.236383,
          -2.275,
          -0.190278,
          -0.461389,
          4.764167,
          -6.27,
          12.655972,
          20.967222,
          23.408333,
          -2.910556,
          2.078333,
          -8.377222,
          -0.481667,
          -5.898889,
          5.081111,
          5.215,
          7.215,
          2.547778,
          2.379444,
          -1.607778,
          23.9445,
          19.261944,
          8.723056,
          11.296944,
          12.351944,
          12.238889,
          14.290833,
          14.26,
          16.569722,
          -8.678056,
          -9.134167,
          26.085,
          6.109444,
          28.751944
         ],
         "marker": {
          "color": [
           195.09654,
           214.7649,
           135.23784,
           139.2684,
           185.04065,
           129.82997,
           168.64928,
           173.69975,
           178.85786,
           177.98766,
           160.92166,
           167.38528,
           137.5812,
           225.74268,
           222.3777,
           58.45185,
           68.10213,
           102.84884,
           59.487953,
           78.133575,
           96.563416,
           124.092384,
           154.4186,
           134.77058,
           150.54881,
           93.03929,
           184.75632,
           164.2535,
           121.20345,
           168.49995,
           145.36734,
           154.77704,
           124.13106,
           196.84659,
           199.77931,
           79.62196,
           105.548676,
           172.54408,
           95.201485,
           209.56657
          ],
          "coloraxis": "coloraxis",
          "opacity": 1,
          "size": [
           92,
           85,
           94,
           50,
           82,
           92,
           75,
           38,
           91,
           91,
           96,
           96,
           43,
           29,
           27,
           85,
           98,
           89,
           82,
           82,
           90,
           91,
           78,
           82,
           86,
           70,
           59,
           52,
           88,
           83,
           86,
           88,
           52,
           29,
           86,
           90,
           82,
           65,
           92,
           81
          ],
          "sizemode": "area",
          "sizeref": 0.245
         },
         "mode": "markers",
         "name": "",
         "showlegend": false,
         "subplot": "mapbox",
         "type": "scattermapbox"
        }
       ],
       "layout": {
        "coloraxis": {
         "colorbar": {
          "title": {
           "text": "MAE all"
          }
         },
         "colorscale": [
          [
           0,
           "#0d0887"
          ],
          [
           0.1111111111111111,
           "#46039f"
          ],
          [
           0.2222222222222222,
           "#7201a8"
          ],
          [
           0.3333333333333333,
           "#9c179e"
          ],
          [
           0.4444444444444444,
           "#bd3786"
          ],
          [
           0.5555555555555556,
           "#d8576b"
          ],
          [
           0.6666666666666666,
           "#ed7953"
          ],
          [
           0.7777777777777778,
           "#fb9f3a"
          ],
          [
           0.8888888888888888,
           "#fdca26"
          ],
          [
           1,
           "#f0f921"
          ]
         ]
        },
        "height": 750,
        "legend": {
         "itemsizing": "constant",
         "tracegroupgap": 0
        },
        "mapbox": {
         "center": {
          "lat": 46.668280075,
          "lon": 7.530878949999999
         },
         "domain": {
          "x": [
           0,
           1
          ],
          "y": [
           0,
           1
          ]
         },
         "style": "open-street-map",
         "zoom": 3.6
        },
        "margin": {
         "t": 60
        },
        "template": {
         "data": {
          "bar": [
           {
            "error_x": {
             "color": "#2a3f5f"
            },
            "error_y": {
             "color": "#2a3f5f"
            },
            "marker": {
             "line": {
              "color": "#E5ECF6",
              "width": 0.5
             },
             "pattern": {
              "fillmode": "overlay",
              "size": 10,
              "solidity": 0.2
             }
            },
            "type": "bar"
           }
          ],
          "barpolar": [
           {
            "marker": {
             "line": {
              "color": "#E5ECF6",
              "width": 0.5
             },
             "pattern": {
              "fillmode": "overlay",
              "size": 10,
              "solidity": 0.2
             }
            },
            "type": "barpolar"
           }
          ],
          "carpet": [
           {
            "aaxis": {
             "endlinecolor": "#2a3f5f",
             "gridcolor": "white",
             "linecolor": "white",
             "minorgridcolor": "white",
             "startlinecolor": "#2a3f5f"
            },
            "baxis": {
             "endlinecolor": "#2a3f5f",
             "gridcolor": "white",
             "linecolor": "white",
             "minorgridcolor": "white",
             "startlinecolor": "#2a3f5f"
            },
            "type": "carpet"
           }
          ],
          "choropleth": [
           {
            "colorbar": {
             "outlinewidth": 0,
             "ticks": ""
            },
            "type": "choropleth"
           }
          ],
          "contour": [
           {
            "colorbar": {
             "outlinewidth": 0,
             "ticks": ""
            },
            "colorscale": [
             [
              0,
              "#0d0887"
             ],
             [
              0.1111111111111111,
              "#46039f"
             ],
             [
              0.2222222222222222,
              "#7201a8"
             ],
             [
              0.3333333333333333,
              "#9c179e"
             ],
             [
              0.4444444444444444,
              "#bd3786"
             ],
             [
              0.5555555555555556,
              "#d8576b"
             ],
             [
              0.6666666666666666,
              "#ed7953"
             ],
             [
              0.7777777777777778,
              "#fb9f3a"
             ],
             [
              0.8888888888888888,
              "#fdca26"
             ],
             [
              1,
              "#f0f921"
             ]
            ],
            "type": "contour"
           }
          ],
          "contourcarpet": [
           {
            "colorbar": {
             "outlinewidth": 0,
             "ticks": ""
            },
            "type": "contourcarpet"
           }
          ],
          "heatmap": [
           {
            "colorbar": {
             "outlinewidth": 0,
             "ticks": ""
            },
            "colorscale": [
             [
              0,
              "#0d0887"
             ],
             [
              0.1111111111111111,
              "#46039f"
             ],
             [
              0.2222222222222222,
              "#7201a8"
             ],
             [
              0.3333333333333333,
              "#9c179e"
             ],
             [
              0.4444444444444444,
              "#bd3786"
             ],
             [
              0.5555555555555556,
              "#d8576b"
             ],
             [
              0.6666666666666666,
              "#ed7953"
             ],
             [
              0.7777777777777778,
              "#fb9f3a"
             ],
             [
              0.8888888888888888,
              "#fdca26"
             ],
             [
              1,
              "#f0f921"
             ]
            ],
            "type": "heatmap"
           }
          ],
          "heatmapgl": [
           {
            "colorbar": {
             "outlinewidth": 0,
             "ticks": ""
            },
            "colorscale": [
             [
              0,
              "#0d0887"
             ],
             [
              0.1111111111111111,
              "#46039f"
             ],
             [
              0.2222222222222222,
              "#7201a8"
             ],
             [
              0.3333333333333333,
              "#9c179e"
             ],
             [
              0.4444444444444444,
              "#bd3786"
             ],
             [
              0.5555555555555556,
              "#d8576b"
             ],
             [
              0.6666666666666666,
              "#ed7953"
             ],
             [
              0.7777777777777778,
              "#fb9f3a"
             ],
             [
              0.8888888888888888,
              "#fdca26"
             ],
             [
              1,
              "#f0f921"
             ]
            ],
            "type": "heatmapgl"
           }
          ],
          "histogram": [
           {
            "marker": {
             "pattern": {
              "fillmode": "overlay",
              "size": 10,
              "solidity": 0.2
             }
            },
            "type": "histogram"
           }
          ],
          "histogram2d": [
           {
            "colorbar": {
             "outlinewidth": 0,
             "ticks": ""
            },
            "colorscale": [
             [
              0,
              "#0d0887"
             ],
             [
              0.1111111111111111,
              "#46039f"
             ],
             [
              0.2222222222222222,
              "#7201a8"
             ],
             [
              0.3333333333333333,
              "#9c179e"
             ],
             [
              0.4444444444444444,
              "#bd3786"
             ],
             [
              0.5555555555555556,
              "#d8576b"
             ],
             [
              0.6666666666666666,
              "#ed7953"
             ],
             [
              0.7777777777777778,
              "#fb9f3a"
             ],
             [
              0.8888888888888888,
              "#fdca26"
             ],
             [
              1,
              "#f0f921"
             ]
            ],
            "type": "histogram2d"
           }
          ],
          "histogram2dcontour": [
           {
            "colorbar": {
             "outlinewidth": 0,
             "ticks": ""
            },
            "colorscale": [
             [
              0,
              "#0d0887"
             ],
             [
              0.1111111111111111,
              "#46039f"
             ],
             [
              0.2222222222222222,
              "#7201a8"
             ],
             [
              0.3333333333333333,
              "#9c179e"
             ],
             [
              0.4444444444444444,
              "#bd3786"
             ],
             [
              0.5555555555555556,
              "#d8576b"
             ],
             [
              0.6666666666666666,
              "#ed7953"
             ],
             [
              0.7777777777777778,
              "#fb9f3a"
             ],
             [
              0.8888888888888888,
              "#fdca26"
             ],
             [
              1,
              "#f0f921"
             ]
            ],
            "type": "histogram2dcontour"
           }
          ],
          "mesh3d": [
           {
            "colorbar": {
             "outlinewidth": 0,
             "ticks": ""
            },
            "type": "mesh3d"
           }
          ],
          "parcoords": [
           {
            "line": {
             "colorbar": {
              "outlinewidth": 0,
              "ticks": ""
             }
            },
            "type": "parcoords"
           }
          ],
          "pie": [
           {
            "automargin": true,
            "type": "pie"
           }
          ],
          "scatter": [
           {
            "fillpattern": {
             "fillmode": "overlay",
             "size": 10,
             "solidity": 0.2
            },
            "type": "scatter"
           }
          ],
          "scatter3d": [
           {
            "line": {
             "colorbar": {
              "outlinewidth": 0,
              "ticks": ""
             }
            },
            "marker": {
             "colorbar": {
              "outlinewidth": 0,
              "ticks": ""
             }
            },
            "type": "scatter3d"
           }
          ],
          "scattercarpet": [
           {
            "marker": {
             "colorbar": {
              "outlinewidth": 0,
              "ticks": ""
             }
            },
            "type": "scattercarpet"
           }
          ],
          "scattergeo": [
           {
            "marker": {
             "colorbar": {
              "outlinewidth": 0,
              "ticks": ""
             }
            },
            "type": "scattergeo"
           }
          ],
          "scattergl": [
           {
            "marker": {
             "colorbar": {
              "outlinewidth": 0,
              "ticks": ""
             }
            },
            "type": "scattergl"
           }
          ],
          "scattermapbox": [
           {
            "marker": {
             "colorbar": {
              "outlinewidth": 0,
              "ticks": ""
             }
            },
            "type": "scattermapbox"
           }
          ],
          "scatterpolar": [
           {
            "marker": {
             "colorbar": {
              "outlinewidth": 0,
              "ticks": ""
             }
            },
            "type": "scatterpolar"
           }
          ],
          "scatterpolargl": [
           {
            "marker": {
             "colorbar": {
              "outlinewidth": 0,
              "ticks": ""
             }
            },
            "type": "scatterpolargl"
           }
          ],
          "scatterternary": [
           {
            "marker": {
             "colorbar": {
              "outlinewidth": 0,
              "ticks": ""
             }
            },
            "type": "scatterternary"
           }
          ],
          "surface": [
           {
            "colorbar": {
             "outlinewidth": 0,
             "ticks": ""
            },
            "colorscale": [
             [
              0,
              "#0d0887"
             ],
             [
              0.1111111111111111,
              "#46039f"
             ],
             [
              0.2222222222222222,
              "#7201a8"
             ],
             [
              0.3333333333333333,
              "#9c179e"
             ],
             [
              0.4444444444444444,
              "#bd3786"
             ],
             [
              0.5555555555555556,
              "#d8576b"
             ],
             [
              0.6666666666666666,
              "#ed7953"
             ],
             [
              0.7777777777777778,
              "#fb9f3a"
             ],
             [
              0.8888888888888888,
              "#fdca26"
             ],
             [
              1,
              "#f0f921"
             ]
            ],
            "type": "surface"
           }
          ],
          "table": [
           {
            "cells": {
             "fill": {
              "color": "#EBF0F8"
             },
             "line": {
              "color": "white"
             }
            },
            "header": {
             "fill": {
              "color": "#C8D4E3"
             },
             "line": {
              "color": "white"
             }
            },
            "type": "table"
           }
          ]
         },
         "layout": {
          "annotationdefaults": {
           "arrowcolor": "#2a3f5f",
           "arrowhead": 0,
           "arrowwidth": 1
          },
          "autotypenumbers": "strict",
          "coloraxis": {
           "colorbar": {
            "outlinewidth": 0,
            "ticks": ""
           }
          },
          "colorscale": {
           "diverging": [
            [
             0,
             "#8e0152"
            ],
            [
             0.1,
             "#c51b7d"
            ],
            [
             0.2,
             "#de77ae"
            ],
            [
             0.3,
             "#f1b6da"
            ],
            [
             0.4,
             "#fde0ef"
            ],
            [
             0.5,
             "#f7f7f7"
            ],
            [
             0.6,
             "#e6f5d0"
            ],
            [
             0.7,
             "#b8e186"
            ],
            [
             0.8,
             "#7fbc41"
            ],
            [
             0.9,
             "#4d9221"
            ],
            [
             1,
             "#276419"
            ]
           ],
           "sequential": [
            [
             0,
             "#0d0887"
            ],
            [
             0.1111111111111111,
             "#46039f"
            ],
            [
             0.2222222222222222,
             "#7201a8"
            ],
            [
             0.3333333333333333,
             "#9c179e"
            ],
            [
             0.4444444444444444,
             "#bd3786"
            ],
            [
             0.5555555555555556,
             "#d8576b"
            ],
            [
             0.6666666666666666,
             "#ed7953"
            ],
            [
             0.7777777777777778,
             "#fb9f3a"
            ],
            [
             0.8888888888888888,
             "#fdca26"
            ],
            [
             1,
             "#f0f921"
            ]
           ],
           "sequentialminus": [
            [
             0,
             "#0d0887"
            ],
            [
             0.1111111111111111,
             "#46039f"
            ],
            [
             0.2222222222222222,
             "#7201a8"
            ],
            [
             0.3333333333333333,
             "#9c179e"
            ],
            [
             0.4444444444444444,
             "#bd3786"
            ],
            [
             0.5555555555555556,
             "#d8576b"
            ],
            [
             0.6666666666666666,
             "#ed7953"
            ],
            [
             0.7777777777777778,
             "#fb9f3a"
            ],
            [
             0.8888888888888888,
             "#fdca26"
            ],
            [
             1,
             "#f0f921"
            ]
           ]
          },
          "colorway": [
           "#636efa",
           "#EF553B",
           "#00cc96",
           "#ab63fa",
           "#FFA15A",
           "#19d3f3",
           "#FF6692",
           "#B6E880",
           "#FF97FF",
           "#FECB52"
          ],
          "font": {
           "color": "#2a3f5f"
          },
          "geo": {
           "bgcolor": "white",
           "lakecolor": "white",
           "landcolor": "#E5ECF6",
           "showlakes": true,
           "showland": true,
           "subunitcolor": "white"
          },
          "hoverlabel": {
           "align": "left"
          },
          "hovermode": "closest",
          "mapbox": {
           "style": "light"
          },
          "paper_bgcolor": "white",
          "plot_bgcolor": "#E5ECF6",
          "polar": {
           "angularaxis": {
            "gridcolor": "white",
            "linecolor": "white",
            "ticks": ""
           },
           "bgcolor": "#E5ECF6",
           "radialaxis": {
            "gridcolor": "white",
            "linecolor": "white",
            "ticks": ""
           }
          },
          "scene": {
           "xaxis": {
            "backgroundcolor": "#E5ECF6",
            "gridcolor": "white",
            "gridwidth": 2,
            "linecolor": "white",
            "showbackground": true,
            "ticks": "",
            "zerolinecolor": "white"
           },
           "yaxis": {
            "backgroundcolor": "#E5ECF6",
            "gridcolor": "white",
            "gridwidth": 2,
            "linecolor": "white",
            "showbackground": true,
            "ticks": "",
            "zerolinecolor": "white"
           },
           "zaxis": {
            "backgroundcolor": "#E5ECF6",
            "gridcolor": "white",
            "gridwidth": 2,
            "linecolor": "white",
            "showbackground": true,
            "ticks": "",
            "zerolinecolor": "white"
           }
          },
          "shapedefaults": {
           "line": {
            "color": "#2a3f5f"
           }
          },
          "ternary": {
           "aaxis": {
            "gridcolor": "white",
            "linecolor": "white",
            "ticks": ""
           },
           "baxis": {
            "gridcolor": "white",
            "linecolor": "white",
            "ticks": ""
           },
           "bgcolor": "#E5ECF6",
           "caxis": {
            "gridcolor": "white",
            "linecolor": "white",
            "ticks": ""
           }
          },
          "title": {
           "x": 0.05
          },
          "xaxis": {
           "automargin": true,
           "gridcolor": "white",
           "linecolor": "white",
           "ticks": "",
           "title": {
            "standoff": 15
           },
           "zerolinecolor": "white",
           "zerolinewidth": 2
          },
          "yaxis": {
           "automargin": true,
           "gridcolor": "white",
           "linecolor": "white",
           "ticks": "",
           "title": {
            "standoff": 15
           },
           "zerolinecolor": "white",
           "zerolinewidth": 2
          }
         }
        },
        "width": 950
       }
      },
      "text/html": [
       "<div>                            <div id=\"c0f4b820-d303-43f5-b189-277a3c96b162\" class=\"plotly-graph-div\" style=\"height:750px; width:950px;\"></div>            <script type=\"text/javascript\">                require([\"plotly\"], function(Plotly) {                    window.PLOTLYENV=window.PLOTLYENV || {};                                    if (document.getElementById(\"c0f4b820-d303-43f5-b189-277a3c96b162\")) {                    Plotly.newPlot(                        \"c0f4b820-d303-43f5-b189-277a3c96b162\",                        [{\"customdata\":[[195.09654,329.7435,7141.0],[214.7649,347.50543,9853.0],[135.23784,205.7337,8637.0],[139.2684,196.72441,5479.0],[185.04065,314.56442,7510.0],[129.82997,182.96031,8922.0],[168.64928,355.42865,8310.0],[173.69975,224.99814,2710.0],[178.85786,252.80077,4545.0],[177.98766,255.21518,3897.0],[160.92166,243.3997,8087.0],[167.38528,233.11957,4535.0],[137.5812,214.72122,5361.0],[225.74268,319.77982,4418.0],[222.3777,318.94818,3325.0],[58.45185,102.87986,423.0],[68.10213,118.87572,1630.0],[102.84884,197.7809,1395.0],[59.487953,132.58571,38.0],[78.133575,124.140335,1167.0],[96.563416,159.54764,4451.0],[124.092384,277.01953,3703.0],[154.4186,266.1393,3803.0],[134.77058,192.66318,5156.0],[150.54881,252.73741,5060.0],[93.03929,125.28616,2369.0],[184.75632,303.76477,4279.0],[164.2535,219.16069,6513.0],[121.20345,177.24222,6249.0],[168.49995,255.35608,6288.0],[145.36734,224.7541,7097.0],[154.77704,261.70566,3751.0],[124.13106,179.82245,2609.0],[196.84659,267.51282,3401.0],[199.77931,333.79105,9672.0],[79.62196,113.95746,1492.0],[105.548676,182.40198,1615.0],[172.54408,237.43724,9574.0],[95.201485,134.86868,5324.0],[209.56657,323.1928,10177.0]],\"hovertemplate\":\"<b>%{hovertext}</b><br><br>fpId=%{marker.size}<br>lat=%{lat}<br>lon=%{lon}<br>MAE all=%{marker.color:.3f}<br>RMSE all=%{customdata[1]:.3f}<br>Sample all=%{customdata[2]:.3f}<extra></extra>\",\"hovertext\":[\"EBBR\",\"EDDB\",\"EDDF\",\"EDDH\",\"EDDL\",\"EDDM\",\"EDDP\",\"EGCC\",\"EGKK\",\"EGLL\",\"EHAM\",\"EIDW\",\"EKCH\",\"EPWA\",\"LBSF\",\"LEBB\",\"LEBL\",\"LECO\",\"LEVC\",\"LEZL\",\"LFLL\",\"LFML\",\"LFMN\",\"LFPG\",\"LFPO\",\"LFRS\",\"LGAV\",\"LHBP\",\"LIMC\",\"LIPE\",\"LIPZ\",\"LIRF\",\"LIRN\",\"LKPR\",\"LOWW\",\"LPPR\",\"LPPT\",\"LROP\",\"LSGG\",\"LTFM\"],\"lat\":[50.901389,52.362247,50.033306,53.630389,51.280925,48.353783,51.423992,53.353889,51.148056,51.4775,52.308056,53.421389,55.617917,52.165833,42.695,43.301111,41.296944,43.301944,39.489444,37.418056,45.725556,43.436667,43.665278,49.009722,48.723333,47.156944,37.9367,47.439444,45.63,44.530833,45.505278,41.800278,40.884444,50.100833,48.110278,41.235556,38.774167,44.571111,46.238333,41.275278],\"legendgroup\":\"\",\"lon\":[4.484444,13.500672,8.570456,9.988228,6.757311,11.786086,12.236383,-2.275,-0.190278,-0.461389,4.764167,-6.27,12.655972,20.967222,23.408333,-2.910556,2.078333,-8.377222,-0.481667,-5.898889,5.081111,5.215,7.215,2.547778,2.379444,-1.607778,23.9445,19.261944,8.723056,11.296944,12.351944,12.238889,14.290833,14.26,16.569722,-8.678056,-9.134167,26.085,6.109444,28.751944],\"marker\":{\"color\":[195.09654,214.7649,135.23784,139.2684,185.04065,129.82997,168.64928,173.69975,178.85786,177.98766,160.92166,167.38528,137.5812,225.74268,222.3777,58.45185,68.10213,102.84884,59.487953,78.133575,96.563416,124.092384,154.4186,134.77058,150.54881,93.03929,184.75632,164.2535,121.20345,168.49995,145.36734,154.77704,124.13106,196.84659,199.77931,79.62196,105.548676,172.54408,95.201485,209.56657],\"coloraxis\":\"coloraxis\",\"opacity\":1,\"size\":[92,85,94,50,82,92,75,38,91,91,96,96,43,29,27,85,98,89,82,82,90,91,78,82,86,70,59,52,88,83,86,88,52,29,86,90,82,65,92,81],\"sizemode\":\"area\",\"sizeref\":0.245},\"mode\":\"markers\",\"name\":\"\",\"showlegend\":false,\"subplot\":\"mapbox\",\"type\":\"scattermapbox\"}],                        {\"template\":{\"data\":{\"histogram2dcontour\":[{\"type\":\"histogram2dcontour\",\"colorbar\":{\"outlinewidth\":0,\"ticks\":\"\"},\"colorscale\":[[0.0,\"#0d0887\"],[0.1111111111111111,\"#46039f\"],[0.2222222222222222,\"#7201a8\"],[0.3333333333333333,\"#9c179e\"],[0.4444444444444444,\"#bd3786\"],[0.5555555555555556,\"#d8576b\"],[0.6666666666666666,\"#ed7953\"],[0.7777777777777778,\"#fb9f3a\"],[0.8888888888888888,\"#fdca26\"],[1.0,\"#f0f921\"]]}],\"choropleth\":[{\"type\":\"choropleth\",\"colorbar\":{\"outlinewidth\":0,\"ticks\":\"\"}}],\"histogram2d\":[{\"type\":\"histogram2d\",\"colorbar\":{\"outlinewidth\":0,\"ticks\":\"\"},\"colorscale\":[[0.0,\"#0d0887\"],[0.1111111111111111,\"#46039f\"],[0.2222222222222222,\"#7201a8\"],[0.3333333333333333,\"#9c179e\"],[0.4444444444444444,\"#bd3786\"],[0.5555555555555556,\"#d8576b\"],[0.6666666666666666,\"#ed7953\"],[0.7777777777777778,\"#fb9f3a\"],[0.8888888888888888,\"#fdca26\"],[1.0,\"#f0f921\"]]}],\"heatmap\":[{\"type\":\"heatmap\",\"colorbar\":{\"outlinewidth\":0,\"ticks\":\"\"},\"colorscale\":[[0.0,\"#0d0887\"],[0.1111111111111111,\"#46039f\"],[0.2222222222222222,\"#7201a8\"],[0.3333333333333333,\"#9c179e\"],[0.4444444444444444,\"#bd3786\"],[0.5555555555555556,\"#d8576b\"],[0.6666666666666666,\"#ed7953\"],[0.7777777777777778,\"#fb9f3a\"],[0.8888888888888888,\"#fdca26\"],[1.0,\"#f0f921\"]]}],\"heatmapgl\":[{\"type\":\"heatmapgl\",\"colorbar\":{\"outlinewidth\":0,\"ticks\":\"\"},\"colorscale\":[[0.0,\"#0d0887\"],[0.1111111111111111,\"#46039f\"],[0.2222222222222222,\"#7201a8\"],[0.3333333333333333,\"#9c179e\"],[0.4444444444444444,\"#bd3786\"],[0.5555555555555556,\"#d8576b\"],[0.6666666666666666,\"#ed7953\"],[0.7777777777777778,\"#fb9f3a\"],[0.8888888888888888,\"#fdca26\"],[1.0,\"#f0f921\"]]}],\"contourcarpet\":[{\"type\":\"contourcarpet\",\"colorbar\":{\"outlinewidth\":0,\"ticks\":\"\"}}],\"contour\":[{\"type\":\"contour\",\"colorbar\":{\"outlinewidth\":0,\"ticks\":\"\"},\"colorscale\":[[0.0,\"#0d0887\"],[0.1111111111111111,\"#46039f\"],[0.2222222222222222,\"#7201a8\"],[0.3333333333333333,\"#9c179e\"],[0.4444444444444444,\"#bd3786\"],[0.5555555555555556,\"#d8576b\"],[0.6666666666666666,\"#ed7953\"],[0.7777777777777778,\"#fb9f3a\"],[0.8888888888888888,\"#fdca26\"],[1.0,\"#f0f921\"]]}],\"surface\":[{\"type\":\"surface\",\"colorbar\":{\"outlinewidth\":0,\"ticks\":\"\"},\"colorscale\":[[0.0,\"#0d0887\"],[0.1111111111111111,\"#46039f\"],[0.2222222222222222,\"#7201a8\"],[0.3333333333333333,\"#9c179e\"],[0.4444444444444444,\"#bd3786\"],[0.5555555555555556,\"#d8576b\"],[0.6666666666666666,\"#ed7953\"],[0.7777777777777778,\"#fb9f3a\"],[0.8888888888888888,\"#fdca26\"],[1.0,\"#f0f921\"]]}],\"mesh3d\":[{\"type\":\"mesh3d\",\"colorbar\":{\"outlinewidth\":0,\"ticks\":\"\"}}],\"scatter\":[{\"fillpattern\":{\"fillmode\":\"overlay\",\"size\":10,\"solidity\":0.2},\"type\":\"scatter\"}],\"parcoords\":[{\"type\":\"parcoords\",\"line\":{\"colorbar\":{\"outlinewidth\":0,\"ticks\":\"\"}}}],\"scatterpolargl\":[{\"type\":\"scatterpolargl\",\"marker\":{\"colorbar\":{\"outlinewidth\":0,\"ticks\":\"\"}}}],\"bar\":[{\"error_x\":{\"color\":\"#2a3f5f\"},\"error_y\":{\"color\":\"#2a3f5f\"},\"marker\":{\"line\":{\"color\":\"#E5ECF6\",\"width\":0.5},\"pattern\":{\"fillmode\":\"overlay\",\"size\":10,\"solidity\":0.2}},\"type\":\"bar\"}],\"scattergeo\":[{\"type\":\"scattergeo\",\"marker\":{\"colorbar\":{\"outlinewidth\":0,\"ticks\":\"\"}}}],\"scatterpolar\":[{\"type\":\"scatterpolar\",\"marker\":{\"colorbar\":{\"outlinewidth\":0,\"ticks\":\"\"}}}],\"histogram\":[{\"marker\":{\"pattern\":{\"fillmode\":\"overlay\",\"size\":10,\"solidity\":0.2}},\"type\":\"histogram\"}],\"scattergl\":[{\"type\":\"scattergl\",\"marker\":{\"colorbar\":{\"outlinewidth\":0,\"ticks\":\"\"}}}],\"scatter3d\":[{\"type\":\"scatter3d\",\"line\":{\"colorbar\":{\"outlinewidth\":0,\"ticks\":\"\"}},\"marker\":{\"colorbar\":{\"outlinewidth\":0,\"ticks\":\"\"}}}],\"scattermapbox\":[{\"type\":\"scattermapbox\",\"marker\":{\"colorbar\":{\"outlinewidth\":0,\"ticks\":\"\"}}}],\"scatterternary\":[{\"type\":\"scatterternary\",\"marker\":{\"colorbar\":{\"outlinewidth\":0,\"ticks\":\"\"}}}],\"scattercarpet\":[{\"type\":\"scattercarpet\",\"marker\":{\"colorbar\":{\"outlinewidth\":0,\"ticks\":\"\"}}}],\"carpet\":[{\"aaxis\":{\"endlinecolor\":\"#2a3f5f\",\"gridcolor\":\"white\",\"linecolor\":\"white\",\"minorgridcolor\":\"white\",\"startlinecolor\":\"#2a3f5f\"},\"baxis\":{\"endlinecolor\":\"#2a3f5f\",\"gridcolor\":\"white\",\"linecolor\":\"white\",\"minorgridcolor\":\"white\",\"startlinecolor\":\"#2a3f5f\"},\"type\":\"carpet\"}],\"table\":[{\"cells\":{\"fill\":{\"color\":\"#EBF0F8\"},\"line\":{\"color\":\"white\"}},\"header\":{\"fill\":{\"color\":\"#C8D4E3\"},\"line\":{\"color\":\"white\"}},\"type\":\"table\"}],\"barpolar\":[{\"marker\":{\"line\":{\"color\":\"#E5ECF6\",\"width\":0.5},\"pattern\":{\"fillmode\":\"overlay\",\"size\":10,\"solidity\":0.2}},\"type\":\"barpolar\"}],\"pie\":[{\"automargin\":true,\"type\":\"pie\"}]},\"layout\":{\"autotypenumbers\":\"strict\",\"colorway\":[\"#636efa\",\"#EF553B\",\"#00cc96\",\"#ab63fa\",\"#FFA15A\",\"#19d3f3\",\"#FF6692\",\"#B6E880\",\"#FF97FF\",\"#FECB52\"],\"font\":{\"color\":\"#2a3f5f\"},\"hovermode\":\"closest\",\"hoverlabel\":{\"align\":\"left\"},\"paper_bgcolor\":\"white\",\"plot_bgcolor\":\"#E5ECF6\",\"polar\":{\"bgcolor\":\"#E5ECF6\",\"angularaxis\":{\"gridcolor\":\"white\",\"linecolor\":\"white\",\"ticks\":\"\"},\"radialaxis\":{\"gridcolor\":\"white\",\"linecolor\":\"white\",\"ticks\":\"\"}},\"ternary\":{\"bgcolor\":\"#E5ECF6\",\"aaxis\":{\"gridcolor\":\"white\",\"linecolor\":\"white\",\"ticks\":\"\"},\"baxis\":{\"gridcolor\":\"white\",\"linecolor\":\"white\",\"ticks\":\"\"},\"caxis\":{\"gridcolor\":\"white\",\"linecolor\":\"white\",\"ticks\":\"\"}},\"coloraxis\":{\"colorbar\":{\"outlinewidth\":0,\"ticks\":\"\"}},\"colorscale\":{\"sequential\":[[0.0,\"#0d0887\"],[0.1111111111111111,\"#46039f\"],[0.2222222222222222,\"#7201a8\"],[0.3333333333333333,\"#9c179e\"],[0.4444444444444444,\"#bd3786\"],[0.5555555555555556,\"#d8576b\"],[0.6666666666666666,\"#ed7953\"],[0.7777777777777778,\"#fb9f3a\"],[0.8888888888888888,\"#fdca26\"],[1.0,\"#f0f921\"]],\"sequentialminus\":[[0.0,\"#0d0887\"],[0.1111111111111111,\"#46039f\"],[0.2222222222222222,\"#7201a8\"],[0.3333333333333333,\"#9c179e\"],[0.4444444444444444,\"#bd3786\"],[0.5555555555555556,\"#d8576b\"],[0.6666666666666666,\"#ed7953\"],[0.7777777777777778,\"#fb9f3a\"],[0.8888888888888888,\"#fdca26\"],[1.0,\"#f0f921\"]],\"diverging\":[[0,\"#8e0152\"],[0.1,\"#c51b7d\"],[0.2,\"#de77ae\"],[0.3,\"#f1b6da\"],[0.4,\"#fde0ef\"],[0.5,\"#f7f7f7\"],[0.6,\"#e6f5d0\"],[0.7,\"#b8e186\"],[0.8,\"#7fbc41\"],[0.9,\"#4d9221\"],[1,\"#276419\"]]},\"xaxis\":{\"gridcolor\":\"white\",\"linecolor\":\"white\",\"ticks\":\"\",\"title\":{\"standoff\":15},\"zerolinecolor\":\"white\",\"automargin\":true,\"zerolinewidth\":2},\"yaxis\":{\"gridcolor\":\"white\",\"linecolor\":\"white\",\"ticks\":\"\",\"title\":{\"standoff\":15},\"zerolinecolor\":\"white\",\"automargin\":true,\"zerolinewidth\":2},\"scene\":{\"xaxis\":{\"backgroundcolor\":\"#E5ECF6\",\"gridcolor\":\"white\",\"linecolor\":\"white\",\"showbackground\":true,\"ticks\":\"\",\"zerolinecolor\":\"white\",\"gridwidth\":2},\"yaxis\":{\"backgroundcolor\":\"#E5ECF6\",\"gridcolor\":\"white\",\"linecolor\":\"white\",\"showbackground\":true,\"ticks\":\"\",\"zerolinecolor\":\"white\",\"gridwidth\":2},\"zaxis\":{\"backgroundcolor\":\"#E5ECF6\",\"gridcolor\":\"white\",\"linecolor\":\"white\",\"showbackground\":true,\"ticks\":\"\",\"zerolinecolor\":\"white\",\"gridwidth\":2}},\"shapedefaults\":{\"line\":{\"color\":\"#2a3f5f\"}},\"annotationdefaults\":{\"arrowcolor\":\"#2a3f5f\",\"arrowhead\":0,\"arrowwidth\":1},\"geo\":{\"bgcolor\":\"white\",\"landcolor\":\"#E5ECF6\",\"subunitcolor\":\"white\",\"showland\":true,\"showlakes\":true,\"lakecolor\":\"white\"},\"title\":{\"x\":0.05},\"mapbox\":{\"style\":\"light\"}}},\"mapbox\":{\"domain\":{\"x\":[0.0,1.0],\"y\":[0.0,1.0]},\"center\":{\"lat\":46.668280075,\"lon\":7.530878949999999},\"zoom\":3.6,\"style\":\"open-street-map\"},\"coloraxis\":{\"colorbar\":{\"title\":{\"text\":\"MAE all\"}},\"colorscale\":[[0.0,\"#0d0887\"],[0.1111111111111111,\"#46039f\"],[0.2222222222222222,\"#7201a8\"],[0.3333333333333333,\"#9c179e\"],[0.4444444444444444,\"#bd3786\"],[0.5555555555555556,\"#d8576b\"],[0.6666666666666666,\"#ed7953\"],[0.7777777777777778,\"#fb9f3a\"],[0.8888888888888888,\"#fdca26\"],[1.0,\"#f0f921\"]]},\"legend\":{\"tracegroupgap\":0,\"itemsizing\":\"constant\"},\"margin\":{\"t\":60},\"height\":750,\"width\":950},                        {\"responsive\": true}                    ).then(function(){\n",
       "                            \n",
       "var gd = document.getElementById('c0f4b820-d303-43f5-b189-277a3c96b162');\n",
       "var x = new MutationObserver(function (mutations, observer) {{\n",
       "        var display = window.getComputedStyle(gd).display;\n",
       "        if (!display || display === 'none') {{\n",
       "            console.log([gd, 'removed!']);\n",
       "            Plotly.purge(gd);\n",
       "            observer.disconnect();\n",
       "        }}\n",
       "}});\n",
       "\n",
       "// Listen for the removal of the full notebook cells\n",
       "var notebookContainer = gd.closest('#notebook-container');\n",
       "if (notebookContainer) {{\n",
       "    x.observe(notebookContainer, {childList: true});\n",
       "}}\n",
       "\n",
       "// Listen for the clearing of the current output cell\n",
       "var outputEl = gd.closest('.output');\n",
       "if (outputEl) {{\n",
       "    x.observe(outputEl, {childList: true});\n",
       "}}\n",
       "\n",
       "                        })                };                });            </script>        </div>"
      ]
     },
     "metadata": {},
     "output_type": "display_data"
    }
   ],
   "source": [
    "px.scatter_mapbox(vis, 'lat', 'lon', zoom=3.6,width=950, height=750,\n",
    "                  mapbox_style=\"open-street-map\", opacity = 1,\n",
    "                  color = 'MAE all', size='fpId',\n",
    "#                   range_color=(50,300),\n",
    "                  # color_continuous_scale='RdYlGn_r', #'bluered' 'Portland'\n",
    "                  # color_continuous_midpoint=150,\n",
    "                  hover_data = {'MAE all':':.3f',\n",
    "                                'RMSE all':':.3f',\n",
    "                                'Sample all':':.3f'},\n",
    "                  hover_name='dataset'\n",
    "                 )"
   ]
  },
  {
   "cell_type": "code",
   "execution_count": 11,
   "id": "360a6427",
   "metadata": {},
   "outputs": [
    {
     "data": {
      "application/vnd.plotly.v1+json": {
       "config": {
        "plotlyServerURL": "https://plot.ly"
       },
       "data": [
        {
         "customdata": [
          [
           195.09654,
           329.7435
          ],
          [
           214.7649,
           347.50543
          ],
          [
           135.23784,
           205.7337
          ],
          [
           139.2684,
           196.72441
          ],
          [
           185.04065,
           314.56442
          ],
          [
           129.82997,
           182.96031
          ],
          [
           168.64928,
           355.42865
          ],
          [
           173.69975,
           224.99814
          ],
          [
           178.85786,
           252.80077
          ],
          [
           177.98766,
           255.21518
          ],
          [
           160.92166,
           243.3997
          ],
          [
           167.38528,
           233.11957
          ],
          [
           137.5812,
           214.72122
          ],
          [
           225.74268,
           319.77982
          ],
          [
           222.3777,
           318.94818
          ],
          [
           58.45185,
           102.87986
          ],
          [
           68.10213,
           118.87572
          ],
          [
           102.84884,
           197.7809
          ],
          [
           59.487953,
           132.58571
          ],
          [
           78.133575,
           124.140335
          ],
          [
           96.563416,
           159.54764
          ],
          [
           124.092384,
           277.01953
          ],
          [
           154.4186,
           266.1393
          ],
          [
           134.77058,
           192.66318
          ],
          [
           150.54881,
           252.73741
          ],
          [
           93.03929,
           125.28616
          ],
          [
           184.75632,
           303.76477
          ],
          [
           164.2535,
           219.16069
          ],
          [
           121.20345,
           177.24222
          ],
          [
           168.49995,
           255.35608
          ],
          [
           145.36734,
           224.7541
          ],
          [
           154.77704,
           261.70566
          ],
          [
           124.13106,
           179.82245
          ],
          [
           196.84659,
           267.51282
          ],
          [
           199.77931,
           333.79105
          ],
          [
           79.62196,
           113.95746
          ],
          [
           105.548676,
           182.40198
          ],
          [
           172.54408,
           237.43724
          ],
          [
           95.201485,
           134.86868
          ],
          [
           209.56657,
           323.1928
          ]
         ],
         "hovertemplate": "<b>%{hovertext}</b><br><br>fpId=%{marker.size}<br>lat=%{lat}<br>lon=%{lon}<br>MAE all=%{customdata[0]:.3f}<br>RMSE all=%{customdata[1]:.3f}<br>MAPE all=%{marker.color}<extra></extra>",
         "hovertext": [
          "EBBR",
          "EDDB",
          "EDDF",
          "EDDH",
          "EDDL",
          "EDDM",
          "EDDP",
          "EGCC",
          "EGKK",
          "EGLL",
          "EHAM",
          "EIDW",
          "EKCH",
          "EPWA",
          "LBSF",
          "LEBB",
          "LEBL",
          "LECO",
          "LEVC",
          "LEZL",
          "LFLL",
          "LFML",
          "LFMN",
          "LFPG",
          "LFPO",
          "LFRS",
          "LGAV",
          "LHBP",
          "LIMC",
          "LIPE",
          "LIPZ",
          "LIRF",
          "LIRN",
          "LKPR",
          "LOWW",
          "LPPR",
          "LPPT",
          "LROP",
          "LSGG",
          "LTFM"
         ],
         "lat": [
          50.901389,
          52.362247,
          50.033306,
          53.630389,
          51.280925,
          48.353783,
          51.423992,
          53.353889,
          51.148056,
          51.4775,
          52.308056,
          53.421389,
          55.617917,
          52.165833,
          42.695,
          43.301111,
          41.296944,
          43.301944,
          39.489444,
          37.418056,
          45.725556,
          43.436667,
          43.665278,
          49.009722,
          48.723333,
          47.156944,
          37.9367,
          47.439444,
          45.63,
          44.530833,
          45.505278,
          41.800278,
          40.884444,
          50.100833,
          48.110278,
          41.235556,
          38.774167,
          44.571111,
          46.238333,
          41.275278
         ],
         "legendgroup": "",
         "lon": [
          4.484444,
          13.500672,
          8.570456,
          9.988228,
          6.757311,
          11.786086,
          12.236383,
          -2.275,
          -0.190278,
          -0.461389,
          4.764167,
          -6.27,
          12.655972,
          20.967222,
          23.408333,
          -2.910556,
          2.078333,
          -8.377222,
          -0.481667,
          -5.898889,
          5.081111,
          5.215,
          7.215,
          2.547778,
          2.379444,
          -1.607778,
          23.9445,
          19.261944,
          8.723056,
          11.296944,
          12.351944,
          12.238889,
          14.290833,
          14.26,
          16.569722,
          -8.678056,
          -9.134167,
          26.085,
          6.109444,
          28.751944
         ],
         "marker": {
          "color": [
           13.192279,
           8.999115,
           11.689997,
           11.2100725,
           9.739626,
           6.75226,
           6.8365927,
           24.238384,
           11.293094,
           12.140327,
           8.987341,
           9.805493,
           5.682476,
           11.252162,
           6.3778367,
           48.603687,
           14.929622,
           49.35355,
           152.02405,
           65.28069,
           12.335646,
           19.934254,
           13.43122,
           10.327064,
           10.427881,
           13.768606,
           8.673188,
           6.3136396,
           9.078984,
           9.999934,
           9.615383,
           10.9973755,
           8.793011,
           8.937001,
           9.195539,
           27.009655,
           19.138716,
           6.6700172,
           8.589743,
           9.721983
          ],
          "coloraxis": "coloraxis",
          "opacity": 1,
          "size": [
           92,
           85,
           94,
           50,
           82,
           92,
           75,
           38,
           91,
           91,
           96,
           96,
           43,
           29,
           27,
           85,
           98,
           89,
           82,
           82,
           90,
           91,
           78,
           82,
           86,
           70,
           59,
           52,
           88,
           83,
           86,
           88,
           52,
           29,
           86,
           90,
           82,
           65,
           92,
           81
          ],
          "sizemode": "area",
          "sizeref": 0.245
         },
         "mode": "markers",
         "name": "",
         "showlegend": false,
         "subplot": "mapbox",
         "type": "scattermapbox"
        }
       ],
       "layout": {
        "coloraxis": {
         "colorbar": {
          "title": {
           "text": "MAPE all"
          }
         },
         "colorscale": [
          [
           0,
           "#0d0887"
          ],
          [
           0.1111111111111111,
           "#46039f"
          ],
          [
           0.2222222222222222,
           "#7201a8"
          ],
          [
           0.3333333333333333,
           "#9c179e"
          ],
          [
           0.4444444444444444,
           "#bd3786"
          ],
          [
           0.5555555555555556,
           "#d8576b"
          ],
          [
           0.6666666666666666,
           "#ed7953"
          ],
          [
           0.7777777777777778,
           "#fb9f3a"
          ],
          [
           0.8888888888888888,
           "#fdca26"
          ],
          [
           1,
           "#f0f921"
          ]
         ]
        },
        "height": 750,
        "legend": {
         "itemsizing": "constant",
         "tracegroupgap": 0
        },
        "mapbox": {
         "center": {
          "lat": 46.668280075,
          "lon": 7.530878949999999
         },
         "domain": {
          "x": [
           0,
           1
          ],
          "y": [
           0,
           1
          ]
         },
         "style": "open-street-map",
         "zoom": 3.6
        },
        "margin": {
         "t": 60
        },
        "template": {
         "data": {
          "bar": [
           {
            "error_x": {
             "color": "#2a3f5f"
            },
            "error_y": {
             "color": "#2a3f5f"
            },
            "marker": {
             "line": {
              "color": "#E5ECF6",
              "width": 0.5
             },
             "pattern": {
              "fillmode": "overlay",
              "size": 10,
              "solidity": 0.2
             }
            },
            "type": "bar"
           }
          ],
          "barpolar": [
           {
            "marker": {
             "line": {
              "color": "#E5ECF6",
              "width": 0.5
             },
             "pattern": {
              "fillmode": "overlay",
              "size": 10,
              "solidity": 0.2
             }
            },
            "type": "barpolar"
           }
          ],
          "carpet": [
           {
            "aaxis": {
             "endlinecolor": "#2a3f5f",
             "gridcolor": "white",
             "linecolor": "white",
             "minorgridcolor": "white",
             "startlinecolor": "#2a3f5f"
            },
            "baxis": {
             "endlinecolor": "#2a3f5f",
             "gridcolor": "white",
             "linecolor": "white",
             "minorgridcolor": "white",
             "startlinecolor": "#2a3f5f"
            },
            "type": "carpet"
           }
          ],
          "choropleth": [
           {
            "colorbar": {
             "outlinewidth": 0,
             "ticks": ""
            },
            "type": "choropleth"
           }
          ],
          "contour": [
           {
            "colorbar": {
             "outlinewidth": 0,
             "ticks": ""
            },
            "colorscale": [
             [
              0,
              "#0d0887"
             ],
             [
              0.1111111111111111,
              "#46039f"
             ],
             [
              0.2222222222222222,
              "#7201a8"
             ],
             [
              0.3333333333333333,
              "#9c179e"
             ],
             [
              0.4444444444444444,
              "#bd3786"
             ],
             [
              0.5555555555555556,
              "#d8576b"
             ],
             [
              0.6666666666666666,
              "#ed7953"
             ],
             [
              0.7777777777777778,
              "#fb9f3a"
             ],
             [
              0.8888888888888888,
              "#fdca26"
             ],
             [
              1,
              "#f0f921"
             ]
            ],
            "type": "contour"
           }
          ],
          "contourcarpet": [
           {
            "colorbar": {
             "outlinewidth": 0,
             "ticks": ""
            },
            "type": "contourcarpet"
           }
          ],
          "heatmap": [
           {
            "colorbar": {
             "outlinewidth": 0,
             "ticks": ""
            },
            "colorscale": [
             [
              0,
              "#0d0887"
             ],
             [
              0.1111111111111111,
              "#46039f"
             ],
             [
              0.2222222222222222,
              "#7201a8"
             ],
             [
              0.3333333333333333,
              "#9c179e"
             ],
             [
              0.4444444444444444,
              "#bd3786"
             ],
             [
              0.5555555555555556,
              "#d8576b"
             ],
             [
              0.6666666666666666,
              "#ed7953"
             ],
             [
              0.7777777777777778,
              "#fb9f3a"
             ],
             [
              0.8888888888888888,
              "#fdca26"
             ],
             [
              1,
              "#f0f921"
             ]
            ],
            "type": "heatmap"
           }
          ],
          "heatmapgl": [
           {
            "colorbar": {
             "outlinewidth": 0,
             "ticks": ""
            },
            "colorscale": [
             [
              0,
              "#0d0887"
             ],
             [
              0.1111111111111111,
              "#46039f"
             ],
             [
              0.2222222222222222,
              "#7201a8"
             ],
             [
              0.3333333333333333,
              "#9c179e"
             ],
             [
              0.4444444444444444,
              "#bd3786"
             ],
             [
              0.5555555555555556,
              "#d8576b"
             ],
             [
              0.6666666666666666,
              "#ed7953"
             ],
             [
              0.7777777777777778,
              "#fb9f3a"
             ],
             [
              0.8888888888888888,
              "#fdca26"
             ],
             [
              1,
              "#f0f921"
             ]
            ],
            "type": "heatmapgl"
           }
          ],
          "histogram": [
           {
            "marker": {
             "pattern": {
              "fillmode": "overlay",
              "size": 10,
              "solidity": 0.2
             }
            },
            "type": "histogram"
           }
          ],
          "histogram2d": [
           {
            "colorbar": {
             "outlinewidth": 0,
             "ticks": ""
            },
            "colorscale": [
             [
              0,
              "#0d0887"
             ],
             [
              0.1111111111111111,
              "#46039f"
             ],
             [
              0.2222222222222222,
              "#7201a8"
             ],
             [
              0.3333333333333333,
              "#9c179e"
             ],
             [
              0.4444444444444444,
              "#bd3786"
             ],
             [
              0.5555555555555556,
              "#d8576b"
             ],
             [
              0.6666666666666666,
              "#ed7953"
             ],
             [
              0.7777777777777778,
              "#fb9f3a"
             ],
             [
              0.8888888888888888,
              "#fdca26"
             ],
             [
              1,
              "#f0f921"
             ]
            ],
            "type": "histogram2d"
           }
          ],
          "histogram2dcontour": [
           {
            "colorbar": {
             "outlinewidth": 0,
             "ticks": ""
            },
            "colorscale": [
             [
              0,
              "#0d0887"
             ],
             [
              0.1111111111111111,
              "#46039f"
             ],
             [
              0.2222222222222222,
              "#7201a8"
             ],
             [
              0.3333333333333333,
              "#9c179e"
             ],
             [
              0.4444444444444444,
              "#bd3786"
             ],
             [
              0.5555555555555556,
              "#d8576b"
             ],
             [
              0.6666666666666666,
              "#ed7953"
             ],
             [
              0.7777777777777778,
              "#fb9f3a"
             ],
             [
              0.8888888888888888,
              "#fdca26"
             ],
             [
              1,
              "#f0f921"
             ]
            ],
            "type": "histogram2dcontour"
           }
          ],
          "mesh3d": [
           {
            "colorbar": {
             "outlinewidth": 0,
             "ticks": ""
            },
            "type": "mesh3d"
           }
          ],
          "parcoords": [
           {
            "line": {
             "colorbar": {
              "outlinewidth": 0,
              "ticks": ""
             }
            },
            "type": "parcoords"
           }
          ],
          "pie": [
           {
            "automargin": true,
            "type": "pie"
           }
          ],
          "scatter": [
           {
            "fillpattern": {
             "fillmode": "overlay",
             "size": 10,
             "solidity": 0.2
            },
            "type": "scatter"
           }
          ],
          "scatter3d": [
           {
            "line": {
             "colorbar": {
              "outlinewidth": 0,
              "ticks": ""
             }
            },
            "marker": {
             "colorbar": {
              "outlinewidth": 0,
              "ticks": ""
             }
            },
            "type": "scatter3d"
           }
          ],
          "scattercarpet": [
           {
            "marker": {
             "colorbar": {
              "outlinewidth": 0,
              "ticks": ""
             }
            },
            "type": "scattercarpet"
           }
          ],
          "scattergeo": [
           {
            "marker": {
             "colorbar": {
              "outlinewidth": 0,
              "ticks": ""
             }
            },
            "type": "scattergeo"
           }
          ],
          "scattergl": [
           {
            "marker": {
             "colorbar": {
              "outlinewidth": 0,
              "ticks": ""
             }
            },
            "type": "scattergl"
           }
          ],
          "scattermapbox": [
           {
            "marker": {
             "colorbar": {
              "outlinewidth": 0,
              "ticks": ""
             }
            },
            "type": "scattermapbox"
           }
          ],
          "scatterpolar": [
           {
            "marker": {
             "colorbar": {
              "outlinewidth": 0,
              "ticks": ""
             }
            },
            "type": "scatterpolar"
           }
          ],
          "scatterpolargl": [
           {
            "marker": {
             "colorbar": {
              "outlinewidth": 0,
              "ticks": ""
             }
            },
            "type": "scatterpolargl"
           }
          ],
          "scatterternary": [
           {
            "marker": {
             "colorbar": {
              "outlinewidth": 0,
              "ticks": ""
             }
            },
            "type": "scatterternary"
           }
          ],
          "surface": [
           {
            "colorbar": {
             "outlinewidth": 0,
             "ticks": ""
            },
            "colorscale": [
             [
              0,
              "#0d0887"
             ],
             [
              0.1111111111111111,
              "#46039f"
             ],
             [
              0.2222222222222222,
              "#7201a8"
             ],
             [
              0.3333333333333333,
              "#9c179e"
             ],
             [
              0.4444444444444444,
              "#bd3786"
             ],
             [
              0.5555555555555556,
              "#d8576b"
             ],
             [
              0.6666666666666666,
              "#ed7953"
             ],
             [
              0.7777777777777778,
              "#fb9f3a"
             ],
             [
              0.8888888888888888,
              "#fdca26"
             ],
             [
              1,
              "#f0f921"
             ]
            ],
            "type": "surface"
           }
          ],
          "table": [
           {
            "cells": {
             "fill": {
              "color": "#EBF0F8"
             },
             "line": {
              "color": "white"
             }
            },
            "header": {
             "fill": {
              "color": "#C8D4E3"
             },
             "line": {
              "color": "white"
             }
            },
            "type": "table"
           }
          ]
         },
         "layout": {
          "annotationdefaults": {
           "arrowcolor": "#2a3f5f",
           "arrowhead": 0,
           "arrowwidth": 1
          },
          "autotypenumbers": "strict",
          "coloraxis": {
           "colorbar": {
            "outlinewidth": 0,
            "ticks": ""
           }
          },
          "colorscale": {
           "diverging": [
            [
             0,
             "#8e0152"
            ],
            [
             0.1,
             "#c51b7d"
            ],
            [
             0.2,
             "#de77ae"
            ],
            [
             0.3,
             "#f1b6da"
            ],
            [
             0.4,
             "#fde0ef"
            ],
            [
             0.5,
             "#f7f7f7"
            ],
            [
             0.6,
             "#e6f5d0"
            ],
            [
             0.7,
             "#b8e186"
            ],
            [
             0.8,
             "#7fbc41"
            ],
            [
             0.9,
             "#4d9221"
            ],
            [
             1,
             "#276419"
            ]
           ],
           "sequential": [
            [
             0,
             "#0d0887"
            ],
            [
             0.1111111111111111,
             "#46039f"
            ],
            [
             0.2222222222222222,
             "#7201a8"
            ],
            [
             0.3333333333333333,
             "#9c179e"
            ],
            [
             0.4444444444444444,
             "#bd3786"
            ],
            [
             0.5555555555555556,
             "#d8576b"
            ],
            [
             0.6666666666666666,
             "#ed7953"
            ],
            [
             0.7777777777777778,
             "#fb9f3a"
            ],
            [
             0.8888888888888888,
             "#fdca26"
            ],
            [
             1,
             "#f0f921"
            ]
           ],
           "sequentialminus": [
            [
             0,
             "#0d0887"
            ],
            [
             0.1111111111111111,
             "#46039f"
            ],
            [
             0.2222222222222222,
             "#7201a8"
            ],
            [
             0.3333333333333333,
             "#9c179e"
            ],
            [
             0.4444444444444444,
             "#bd3786"
            ],
            [
             0.5555555555555556,
             "#d8576b"
            ],
            [
             0.6666666666666666,
             "#ed7953"
            ],
            [
             0.7777777777777778,
             "#fb9f3a"
            ],
            [
             0.8888888888888888,
             "#fdca26"
            ],
            [
             1,
             "#f0f921"
            ]
           ]
          },
          "colorway": [
           "#636efa",
           "#EF553B",
           "#00cc96",
           "#ab63fa",
           "#FFA15A",
           "#19d3f3",
           "#FF6692",
           "#B6E880",
           "#FF97FF",
           "#FECB52"
          ],
          "font": {
           "color": "#2a3f5f"
          },
          "geo": {
           "bgcolor": "white",
           "lakecolor": "white",
           "landcolor": "#E5ECF6",
           "showlakes": true,
           "showland": true,
           "subunitcolor": "white"
          },
          "hoverlabel": {
           "align": "left"
          },
          "hovermode": "closest",
          "mapbox": {
           "style": "light"
          },
          "paper_bgcolor": "white",
          "plot_bgcolor": "#E5ECF6",
          "polar": {
           "angularaxis": {
            "gridcolor": "white",
            "linecolor": "white",
            "ticks": ""
           },
           "bgcolor": "#E5ECF6",
           "radialaxis": {
            "gridcolor": "white",
            "linecolor": "white",
            "ticks": ""
           }
          },
          "scene": {
           "xaxis": {
            "backgroundcolor": "#E5ECF6",
            "gridcolor": "white",
            "gridwidth": 2,
            "linecolor": "white",
            "showbackground": true,
            "ticks": "",
            "zerolinecolor": "white"
           },
           "yaxis": {
            "backgroundcolor": "#E5ECF6",
            "gridcolor": "white",
            "gridwidth": 2,
            "linecolor": "white",
            "showbackground": true,
            "ticks": "",
            "zerolinecolor": "white"
           },
           "zaxis": {
            "backgroundcolor": "#E5ECF6",
            "gridcolor": "white",
            "gridwidth": 2,
            "linecolor": "white",
            "showbackground": true,
            "ticks": "",
            "zerolinecolor": "white"
           }
          },
          "shapedefaults": {
           "line": {
            "color": "#2a3f5f"
           }
          },
          "ternary": {
           "aaxis": {
            "gridcolor": "white",
            "linecolor": "white",
            "ticks": ""
           },
           "baxis": {
            "gridcolor": "white",
            "linecolor": "white",
            "ticks": ""
           },
           "bgcolor": "#E5ECF6",
           "caxis": {
            "gridcolor": "white",
            "linecolor": "white",
            "ticks": ""
           }
          },
          "title": {
           "x": 0.05
          },
          "xaxis": {
           "automargin": true,
           "gridcolor": "white",
           "linecolor": "white",
           "ticks": "",
           "title": {
            "standoff": 15
           },
           "zerolinecolor": "white",
           "zerolinewidth": 2
          },
          "yaxis": {
           "automargin": true,
           "gridcolor": "white",
           "linecolor": "white",
           "ticks": "",
           "title": {
            "standoff": 15
           },
           "zerolinecolor": "white",
           "zerolinewidth": 2
          }
         }
        },
        "width": 950
       }
      },
      "text/html": [
       "<div>                            <div id=\"5496e5b1-0e1c-400f-ab88-fb4844b06cb7\" class=\"plotly-graph-div\" style=\"height:750px; width:950px;\"></div>            <script type=\"text/javascript\">                require([\"plotly\"], function(Plotly) {                    window.PLOTLYENV=window.PLOTLYENV || {};                                    if (document.getElementById(\"5496e5b1-0e1c-400f-ab88-fb4844b06cb7\")) {                    Plotly.newPlot(                        \"5496e5b1-0e1c-400f-ab88-fb4844b06cb7\",                        [{\"customdata\":[[195.09654,329.7435],[214.7649,347.50543],[135.23784,205.7337],[139.2684,196.72441],[185.04065,314.56442],[129.82997,182.96031],[168.64928,355.42865],[173.69975,224.99814],[178.85786,252.80077],[177.98766,255.21518],[160.92166,243.3997],[167.38528,233.11957],[137.5812,214.72122],[225.74268,319.77982],[222.3777,318.94818],[58.45185,102.87986],[68.10213,118.87572],[102.84884,197.7809],[59.487953,132.58571],[78.133575,124.140335],[96.563416,159.54764],[124.092384,277.01953],[154.4186,266.1393],[134.77058,192.66318],[150.54881,252.73741],[93.03929,125.28616],[184.75632,303.76477],[164.2535,219.16069],[121.20345,177.24222],[168.49995,255.35608],[145.36734,224.7541],[154.77704,261.70566],[124.13106,179.82245],[196.84659,267.51282],[199.77931,333.79105],[79.62196,113.95746],[105.548676,182.40198],[172.54408,237.43724],[95.201485,134.86868],[209.56657,323.1928]],\"hovertemplate\":\"<b>%{hovertext}</b><br><br>fpId=%{marker.size}<br>lat=%{lat}<br>lon=%{lon}<br>MAE all=%{customdata[0]:.3f}<br>RMSE all=%{customdata[1]:.3f}<br>MAPE all=%{marker.color}<extra></extra>\",\"hovertext\":[\"EBBR\",\"EDDB\",\"EDDF\",\"EDDH\",\"EDDL\",\"EDDM\",\"EDDP\",\"EGCC\",\"EGKK\",\"EGLL\",\"EHAM\",\"EIDW\",\"EKCH\",\"EPWA\",\"LBSF\",\"LEBB\",\"LEBL\",\"LECO\",\"LEVC\",\"LEZL\",\"LFLL\",\"LFML\",\"LFMN\",\"LFPG\",\"LFPO\",\"LFRS\",\"LGAV\",\"LHBP\",\"LIMC\",\"LIPE\",\"LIPZ\",\"LIRF\",\"LIRN\",\"LKPR\",\"LOWW\",\"LPPR\",\"LPPT\",\"LROP\",\"LSGG\",\"LTFM\"],\"lat\":[50.901389,52.362247,50.033306,53.630389,51.280925,48.353783,51.423992,53.353889,51.148056,51.4775,52.308056,53.421389,55.617917,52.165833,42.695,43.301111,41.296944,43.301944,39.489444,37.418056,45.725556,43.436667,43.665278,49.009722,48.723333,47.156944,37.9367,47.439444,45.63,44.530833,45.505278,41.800278,40.884444,50.100833,48.110278,41.235556,38.774167,44.571111,46.238333,41.275278],\"legendgroup\":\"\",\"lon\":[4.484444,13.500672,8.570456,9.988228,6.757311,11.786086,12.236383,-2.275,-0.190278,-0.461389,4.764167,-6.27,12.655972,20.967222,23.408333,-2.910556,2.078333,-8.377222,-0.481667,-5.898889,5.081111,5.215,7.215,2.547778,2.379444,-1.607778,23.9445,19.261944,8.723056,11.296944,12.351944,12.238889,14.290833,14.26,16.569722,-8.678056,-9.134167,26.085,6.109444,28.751944],\"marker\":{\"color\":[13.192279,8.999115,11.689997,11.2100725,9.739626,6.75226,6.8365927,24.238384,11.293094,12.140327,8.987341,9.805493,5.682476,11.252162,6.3778367,48.603687,14.929622,49.35355,152.02405,65.28069,12.335646,19.934254,13.43122,10.327064,10.427881,13.768606,8.673188,6.3136396,9.078984,9.999934,9.615383,10.9973755,8.793011,8.937001,9.195539,27.009655,19.138716,6.6700172,8.589743,9.721983],\"coloraxis\":\"coloraxis\",\"opacity\":1,\"size\":[92,85,94,50,82,92,75,38,91,91,96,96,43,29,27,85,98,89,82,82,90,91,78,82,86,70,59,52,88,83,86,88,52,29,86,90,82,65,92,81],\"sizemode\":\"area\",\"sizeref\":0.245},\"mode\":\"markers\",\"name\":\"\",\"showlegend\":false,\"subplot\":\"mapbox\",\"type\":\"scattermapbox\"}],                        {\"template\":{\"data\":{\"histogram2dcontour\":[{\"type\":\"histogram2dcontour\",\"colorbar\":{\"outlinewidth\":0,\"ticks\":\"\"},\"colorscale\":[[0.0,\"#0d0887\"],[0.1111111111111111,\"#46039f\"],[0.2222222222222222,\"#7201a8\"],[0.3333333333333333,\"#9c179e\"],[0.4444444444444444,\"#bd3786\"],[0.5555555555555556,\"#d8576b\"],[0.6666666666666666,\"#ed7953\"],[0.7777777777777778,\"#fb9f3a\"],[0.8888888888888888,\"#fdca26\"],[1.0,\"#f0f921\"]]}],\"choropleth\":[{\"type\":\"choropleth\",\"colorbar\":{\"outlinewidth\":0,\"ticks\":\"\"}}],\"histogram2d\":[{\"type\":\"histogram2d\",\"colorbar\":{\"outlinewidth\":0,\"ticks\":\"\"},\"colorscale\":[[0.0,\"#0d0887\"],[0.1111111111111111,\"#46039f\"],[0.2222222222222222,\"#7201a8\"],[0.3333333333333333,\"#9c179e\"],[0.4444444444444444,\"#bd3786\"],[0.5555555555555556,\"#d8576b\"],[0.6666666666666666,\"#ed7953\"],[0.7777777777777778,\"#fb9f3a\"],[0.8888888888888888,\"#fdca26\"],[1.0,\"#f0f921\"]]}],\"heatmap\":[{\"type\":\"heatmap\",\"colorbar\":{\"outlinewidth\":0,\"ticks\":\"\"},\"colorscale\":[[0.0,\"#0d0887\"],[0.1111111111111111,\"#46039f\"],[0.2222222222222222,\"#7201a8\"],[0.3333333333333333,\"#9c179e\"],[0.4444444444444444,\"#bd3786\"],[0.5555555555555556,\"#d8576b\"],[0.6666666666666666,\"#ed7953\"],[0.7777777777777778,\"#fb9f3a\"],[0.8888888888888888,\"#fdca26\"],[1.0,\"#f0f921\"]]}],\"heatmapgl\":[{\"type\":\"heatmapgl\",\"colorbar\":{\"outlinewidth\":0,\"ticks\":\"\"},\"colorscale\":[[0.0,\"#0d0887\"],[0.1111111111111111,\"#46039f\"],[0.2222222222222222,\"#7201a8\"],[0.3333333333333333,\"#9c179e\"],[0.4444444444444444,\"#bd3786\"],[0.5555555555555556,\"#d8576b\"],[0.6666666666666666,\"#ed7953\"],[0.7777777777777778,\"#fb9f3a\"],[0.8888888888888888,\"#fdca26\"],[1.0,\"#f0f921\"]]}],\"contourcarpet\":[{\"type\":\"contourcarpet\",\"colorbar\":{\"outlinewidth\":0,\"ticks\":\"\"}}],\"contour\":[{\"type\":\"contour\",\"colorbar\":{\"outlinewidth\":0,\"ticks\":\"\"},\"colorscale\":[[0.0,\"#0d0887\"],[0.1111111111111111,\"#46039f\"],[0.2222222222222222,\"#7201a8\"],[0.3333333333333333,\"#9c179e\"],[0.4444444444444444,\"#bd3786\"],[0.5555555555555556,\"#d8576b\"],[0.6666666666666666,\"#ed7953\"],[0.7777777777777778,\"#fb9f3a\"],[0.8888888888888888,\"#fdca26\"],[1.0,\"#f0f921\"]]}],\"surface\":[{\"type\":\"surface\",\"colorbar\":{\"outlinewidth\":0,\"ticks\":\"\"},\"colorscale\":[[0.0,\"#0d0887\"],[0.1111111111111111,\"#46039f\"],[0.2222222222222222,\"#7201a8\"],[0.3333333333333333,\"#9c179e\"],[0.4444444444444444,\"#bd3786\"],[0.5555555555555556,\"#d8576b\"],[0.6666666666666666,\"#ed7953\"],[0.7777777777777778,\"#fb9f3a\"],[0.8888888888888888,\"#fdca26\"],[1.0,\"#f0f921\"]]}],\"mesh3d\":[{\"type\":\"mesh3d\",\"colorbar\":{\"outlinewidth\":0,\"ticks\":\"\"}}],\"scatter\":[{\"fillpattern\":{\"fillmode\":\"overlay\",\"size\":10,\"solidity\":0.2},\"type\":\"scatter\"}],\"parcoords\":[{\"type\":\"parcoords\",\"line\":{\"colorbar\":{\"outlinewidth\":0,\"ticks\":\"\"}}}],\"scatterpolargl\":[{\"type\":\"scatterpolargl\",\"marker\":{\"colorbar\":{\"outlinewidth\":0,\"ticks\":\"\"}}}],\"bar\":[{\"error_x\":{\"color\":\"#2a3f5f\"},\"error_y\":{\"color\":\"#2a3f5f\"},\"marker\":{\"line\":{\"color\":\"#E5ECF6\",\"width\":0.5},\"pattern\":{\"fillmode\":\"overlay\",\"size\":10,\"solidity\":0.2}},\"type\":\"bar\"}],\"scattergeo\":[{\"type\":\"scattergeo\",\"marker\":{\"colorbar\":{\"outlinewidth\":0,\"ticks\":\"\"}}}],\"scatterpolar\":[{\"type\":\"scatterpolar\",\"marker\":{\"colorbar\":{\"outlinewidth\":0,\"ticks\":\"\"}}}],\"histogram\":[{\"marker\":{\"pattern\":{\"fillmode\":\"overlay\",\"size\":10,\"solidity\":0.2}},\"type\":\"histogram\"}],\"scattergl\":[{\"type\":\"scattergl\",\"marker\":{\"colorbar\":{\"outlinewidth\":0,\"ticks\":\"\"}}}],\"scatter3d\":[{\"type\":\"scatter3d\",\"line\":{\"colorbar\":{\"outlinewidth\":0,\"ticks\":\"\"}},\"marker\":{\"colorbar\":{\"outlinewidth\":0,\"ticks\":\"\"}}}],\"scattermapbox\":[{\"type\":\"scattermapbox\",\"marker\":{\"colorbar\":{\"outlinewidth\":0,\"ticks\":\"\"}}}],\"scatterternary\":[{\"type\":\"scatterternary\",\"marker\":{\"colorbar\":{\"outlinewidth\":0,\"ticks\":\"\"}}}],\"scattercarpet\":[{\"type\":\"scattercarpet\",\"marker\":{\"colorbar\":{\"outlinewidth\":0,\"ticks\":\"\"}}}],\"carpet\":[{\"aaxis\":{\"endlinecolor\":\"#2a3f5f\",\"gridcolor\":\"white\",\"linecolor\":\"white\",\"minorgridcolor\":\"white\",\"startlinecolor\":\"#2a3f5f\"},\"baxis\":{\"endlinecolor\":\"#2a3f5f\",\"gridcolor\":\"white\",\"linecolor\":\"white\",\"minorgridcolor\":\"white\",\"startlinecolor\":\"#2a3f5f\"},\"type\":\"carpet\"}],\"table\":[{\"cells\":{\"fill\":{\"color\":\"#EBF0F8\"},\"line\":{\"color\":\"white\"}},\"header\":{\"fill\":{\"color\":\"#C8D4E3\"},\"line\":{\"color\":\"white\"}},\"type\":\"table\"}],\"barpolar\":[{\"marker\":{\"line\":{\"color\":\"#E5ECF6\",\"width\":0.5},\"pattern\":{\"fillmode\":\"overlay\",\"size\":10,\"solidity\":0.2}},\"type\":\"barpolar\"}],\"pie\":[{\"automargin\":true,\"type\":\"pie\"}]},\"layout\":{\"autotypenumbers\":\"strict\",\"colorway\":[\"#636efa\",\"#EF553B\",\"#00cc96\",\"#ab63fa\",\"#FFA15A\",\"#19d3f3\",\"#FF6692\",\"#B6E880\",\"#FF97FF\",\"#FECB52\"],\"font\":{\"color\":\"#2a3f5f\"},\"hovermode\":\"closest\",\"hoverlabel\":{\"align\":\"left\"},\"paper_bgcolor\":\"white\",\"plot_bgcolor\":\"#E5ECF6\",\"polar\":{\"bgcolor\":\"#E5ECF6\",\"angularaxis\":{\"gridcolor\":\"white\",\"linecolor\":\"white\",\"ticks\":\"\"},\"radialaxis\":{\"gridcolor\":\"white\",\"linecolor\":\"white\",\"ticks\":\"\"}},\"ternary\":{\"bgcolor\":\"#E5ECF6\",\"aaxis\":{\"gridcolor\":\"white\",\"linecolor\":\"white\",\"ticks\":\"\"},\"baxis\":{\"gridcolor\":\"white\",\"linecolor\":\"white\",\"ticks\":\"\"},\"caxis\":{\"gridcolor\":\"white\",\"linecolor\":\"white\",\"ticks\":\"\"}},\"coloraxis\":{\"colorbar\":{\"outlinewidth\":0,\"ticks\":\"\"}},\"colorscale\":{\"sequential\":[[0.0,\"#0d0887\"],[0.1111111111111111,\"#46039f\"],[0.2222222222222222,\"#7201a8\"],[0.3333333333333333,\"#9c179e\"],[0.4444444444444444,\"#bd3786\"],[0.5555555555555556,\"#d8576b\"],[0.6666666666666666,\"#ed7953\"],[0.7777777777777778,\"#fb9f3a\"],[0.8888888888888888,\"#fdca26\"],[1.0,\"#f0f921\"]],\"sequentialminus\":[[0.0,\"#0d0887\"],[0.1111111111111111,\"#46039f\"],[0.2222222222222222,\"#7201a8\"],[0.3333333333333333,\"#9c179e\"],[0.4444444444444444,\"#bd3786\"],[0.5555555555555556,\"#d8576b\"],[0.6666666666666666,\"#ed7953\"],[0.7777777777777778,\"#fb9f3a\"],[0.8888888888888888,\"#fdca26\"],[1.0,\"#f0f921\"]],\"diverging\":[[0,\"#8e0152\"],[0.1,\"#c51b7d\"],[0.2,\"#de77ae\"],[0.3,\"#f1b6da\"],[0.4,\"#fde0ef\"],[0.5,\"#f7f7f7\"],[0.6,\"#e6f5d0\"],[0.7,\"#b8e186\"],[0.8,\"#7fbc41\"],[0.9,\"#4d9221\"],[1,\"#276419\"]]},\"xaxis\":{\"gridcolor\":\"white\",\"linecolor\":\"white\",\"ticks\":\"\",\"title\":{\"standoff\":15},\"zerolinecolor\":\"white\",\"automargin\":true,\"zerolinewidth\":2},\"yaxis\":{\"gridcolor\":\"white\",\"linecolor\":\"white\",\"ticks\":\"\",\"title\":{\"standoff\":15},\"zerolinecolor\":\"white\",\"automargin\":true,\"zerolinewidth\":2},\"scene\":{\"xaxis\":{\"backgroundcolor\":\"#E5ECF6\",\"gridcolor\":\"white\",\"linecolor\":\"white\",\"showbackground\":true,\"ticks\":\"\",\"zerolinecolor\":\"white\",\"gridwidth\":2},\"yaxis\":{\"backgroundcolor\":\"#E5ECF6\",\"gridcolor\":\"white\",\"linecolor\":\"white\",\"showbackground\":true,\"ticks\":\"\",\"zerolinecolor\":\"white\",\"gridwidth\":2},\"zaxis\":{\"backgroundcolor\":\"#E5ECF6\",\"gridcolor\":\"white\",\"linecolor\":\"white\",\"showbackground\":true,\"ticks\":\"\",\"zerolinecolor\":\"white\",\"gridwidth\":2}},\"shapedefaults\":{\"line\":{\"color\":\"#2a3f5f\"}},\"annotationdefaults\":{\"arrowcolor\":\"#2a3f5f\",\"arrowhead\":0,\"arrowwidth\":1},\"geo\":{\"bgcolor\":\"white\",\"landcolor\":\"#E5ECF6\",\"subunitcolor\":\"white\",\"showland\":true,\"showlakes\":true,\"lakecolor\":\"white\"},\"title\":{\"x\":0.05},\"mapbox\":{\"style\":\"light\"}}},\"mapbox\":{\"domain\":{\"x\":[0.0,1.0],\"y\":[0.0,1.0]},\"center\":{\"lat\":46.668280075,\"lon\":7.530878949999999},\"zoom\":3.6,\"style\":\"open-street-map\"},\"coloraxis\":{\"colorbar\":{\"title\":{\"text\":\"MAPE all\"}},\"colorscale\":[[0.0,\"#0d0887\"],[0.1111111111111111,\"#46039f\"],[0.2222222222222222,\"#7201a8\"],[0.3333333333333333,\"#9c179e\"],[0.4444444444444444,\"#bd3786\"],[0.5555555555555556,\"#d8576b\"],[0.6666666666666666,\"#ed7953\"],[0.7777777777777778,\"#fb9f3a\"],[0.8888888888888888,\"#fdca26\"],[1.0,\"#f0f921\"]]},\"legend\":{\"tracegroupgap\":0,\"itemsizing\":\"constant\"},\"margin\":{\"t\":60},\"height\":750,\"width\":950},                        {\"responsive\": true}                    ).then(function(){\n",
       "                            \n",
       "var gd = document.getElementById('5496e5b1-0e1c-400f-ab88-fb4844b06cb7');\n",
       "var x = new MutationObserver(function (mutations, observer) {{\n",
       "        var display = window.getComputedStyle(gd).display;\n",
       "        if (!display || display === 'none') {{\n",
       "            console.log([gd, 'removed!']);\n",
       "            Plotly.purge(gd);\n",
       "            observer.disconnect();\n",
       "        }}\n",
       "}});\n",
       "\n",
       "// Listen for the removal of the full notebook cells\n",
       "var notebookContainer = gd.closest('#notebook-container');\n",
       "if (notebookContainer) {{\n",
       "    x.observe(notebookContainer, {childList: true});\n",
       "}}\n",
       "\n",
       "// Listen for the clearing of the current output cell\n",
       "var outputEl = gd.closest('.output');\n",
       "if (outputEl) {{\n",
       "    x.observe(outputEl, {childList: true});\n",
       "}}\n",
       "\n",
       "                        })                };                });            </script>        </div>"
      ]
     },
     "metadata": {},
     "output_type": "display_data"
    }
   ],
   "source": [
    "px.scatter_mapbox(vis, 'lat', 'lon', zoom=3.6,width=950, height=750,\n",
    "                  mapbox_style=\"open-street-map\", opacity = 1,\n",
    "                  color = 'MAPE all', size='fpId',\n",
    "                  # range_color=(0,0.2),\n",
    "                  # color_continuous_scale='RdYlGn_r', #'bluered' 'Portland'\n",
    "                  # color_continuous_midpoint=150,\n",
    "                  hover_data = {'MAE all':':.3f',\n",
    "                                'RMSE all':':.3f'},\n",
    "                  hover_name='dataset'\n",
    "                 )"
   ]
  },
  {
   "cell_type": "code",
   "execution_count": null,
   "id": "6e938622",
   "metadata": {},
   "outputs": [],
   "source": []
  }
 ],
 "metadata": {
  "kernelspec": {
   "display_name": "Python 3 (ipykernel)",
   "language": "python",
   "name": "python3"
  },
  "language_info": {
   "codemirror_mode": {
    "name": "ipython",
    "version": 3
   },
   "file_extension": ".py",
   "mimetype": "text/x-python",
   "name": "python",
   "nbconvert_exporter": "python",
   "pygments_lexer": "ipython3",
   "version": "3.9.16"
  }
 },
 "nbformat": 4,
 "nbformat_minor": 5
}
