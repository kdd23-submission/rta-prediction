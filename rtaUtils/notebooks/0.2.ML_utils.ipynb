{
 "cells": [
  {
   "cell_type": "code",
   "execution_count": null,
   "id": "19059dc7",
   "metadata": {},
   "outputs": [],
   "source": [
    "import pandas as pd\n",
    "from pathlib import Path\n",
    "import joblib, json\n",
    "\n",
    "from sklearn.model_selection import train_test_split\n",
    "from sklearn.preprocessing import MinMaxScaler, LabelEncoder\n",
    "\n",
    "from tqdm import tqdm\n",
    "\n",
    "import sys\n",
    "sys.path.append('./rtaUtils')\n",
    "\n",
    "from rtaUtils import data_loading, paths"
   ]
  },
  {
   "cell_type": "code",
   "execution_count": null,
   "id": "597634af",
   "metadata": {},
   "outputs": [],
   "source": [
    "default_operator = 'none'\n",
    "with open(Path('./data/airlines.json')) as file:\n",
    "    operators = pd.DataFrame.from_dict(json.load(file)['rows']).ICAO.values.tolist() + [default_operator]\n",
    "sky_statuses = ['BKN', 'CAVOK', 'FEW', 'NSC', 'SCT', 'OVC']\n",
    "airport_list = ('LEBL','LPPT','LFPO','LFPG','EGLL','LPPR','EDDF','EBBR','EHAM','LEBB','LIRF',\n",
    "                'EDDM','EGKK','LEVC','LSGG','LECO','LIMC','EIDW','LFML','LEZL','LOWW','LIPZ',\n",
    "                'LIPE','LFLL','EDDL','EDDB','LTFM','LFMN','LFRS','LROP','EDDP','LGAV','EDDH',\n",
    "                'LHBP','EKCH','EGCC','ELLX','LKPR','LIRN','LBSF','EPWA')"
   ]
  },
  {
   "cell_type": "markdown",
   "id": "bbb93c6a",
   "metadata": {},
   "source": [
    "# Feature selection"
   ]
  },
  {
   "cell_type": "code",
   "execution_count": null,
   "id": "10656136",
   "metadata": {},
   "outputs": [],
   "source": [
    "### Features ##################################################################\n",
    "numeric_feat   = ['latitude', 'longitude', 'altitude', \n",
    "                  'vspeed', 'speed', 'day_of_week', 'track', 'wind_dir_degrees', \n",
    "                  'wind_speed_kt', 'visibility_statute_mi', 'max_temp', 'min_temp',\n",
    "                  'clouds', 'hav_distance']\n",
    "categoric_feat = ['operator', 'sky_status']\n",
    "objective      = ['RTA']\n",
    "num_features   = len(numeric_feat+categoric_feat)"
   ]
  },
  {
   "cell_type": "markdown",
   "id": "6f025a6b",
   "metadata": {},
   "source": [
    "# Encoder and scaler generation"
   ]
  },
  {
   "cell_type": "code",
   "execution_count": null,
   "id": "58af4a38",
   "metadata": {},
   "outputs": [],
   "source": [
    "month    = '20220[123456789]'\n",
    "airports = ''"
   ]
  },
  {
   "cell_type": "raw",
   "id": "d37e3259",
   "metadata": {},
   "source": [
    "# Ablation\n",
    "data_copy = data_loading.load_clean_data(month, airports, numeric_feat+categoric_feat+objective) # operators\n",
    "encoders = joblib.load(paths.utils_path / 'encoder.joblib')\n",
    "\n",
    "for feat in categoric_feat:\n",
    "    le = encoders[feat]\n",
    "    data_copy[feat] = le.transform(data_copy[feat]).reshape(-1,1)\n",
    "\n",
    "scaler = MinMaxScaler(feature_range=(0, 1))\n",
    "scaler.fit(data_copy[numeric_feat+categoric_feat+objective])\n",
    "\n",
    "del data_copy\n",
    "\n",
    "# joblib.dump(encoders, paths.utils_path / 'encoder.joblib') \n",
    "joblib.dump(scaler, paths.utils_path   / 'scaler_{}.joblib'.format(num_features));"
   ]
  },
  {
   "cell_type": "code",
   "execution_count": null,
   "id": "20d57de5",
   "metadata": {},
   "outputs": [],
   "source": [
    "data_copy = data_loading.load_clean_data(month, airports, numeric_feat+categoric_feat+objective) # operators\n",
    "\n",
    "# Categoric to numeric conversion\n",
    "encoders = {}\n",
    "for feat in categoric_feat:\n",
    "    le = LabelEncoder()\n",
    "    if feat == 'operator': \n",
    "        # le = le.fit(operators)\n",
    "        # data_copy[feat] = le.transform(data_copy[feat]).reshape(-1,1)\n",
    "        data_copy[feat] = le.fit_transform(data_copy[feat]).reshape(-1,1)\n",
    "    elif feat == 'sky_status': \n",
    "        le = le.fit(sky_statuses)\n",
    "        data_copy[feat] = le.transform(data_copy[feat]).reshape(-1,1)\n",
    "    elif feat == 'aerodromeOfDeparture':\n",
    "        le = le.fit(airport_list)\n",
    "        data_copy[feat] = le.transform(data_copy[feat]).reshape(-1,1)\n",
    "    else:\n",
    "        data_copy[feat] = le.fit_transform(data_copy[feat]).reshape(-1,1)\n",
    "    encoders[feat]  = le\n",
    "\n",
    "# Normalization to [0,1] range\n",
    "scaler = MinMaxScaler(feature_range=(0, 1))\n",
    "scaler.fit(data_copy[numeric_feat+categoric_feat+objective])\n",
    "\n",
    "del data_copy\n",
    "\n",
    "joblib.dump(encoders, paths.utils_path / 'encoder.joblib') \n",
    "joblib.dump(scaler, paths.utils_path   / 'scaler_{}.joblib'.format(num_features));"
   ]
  },
  {
   "cell_type": "markdown",
   "id": "a6b03a81",
   "metadata": {},
   "source": [
    "# Stratified data separation"
   ]
  },
  {
   "cell_type": "code",
   "execution_count": null,
   "id": "611aecd4",
   "metadata": {},
   "outputs": [],
   "source": [
    "train_ratio  = 0.85\n",
    "test_ratio   = 1 - train_ratio\n",
    "val_ratio    = 0.15"
   ]
  },
  {
   "cell_type": "code",
   "execution_count": null,
   "id": "2dad7b75",
   "metadata": {},
   "outputs": [],
   "source": [
    "def generate_flight_stats(data: pd.DataFrame) -> pd.DataFrame:\n",
    "    # REVISAR. Sobran cosas #########################\n",
    "    flights = data.groupby(['fpId']).agg(to_min=('actualTakeOffTime','min'), \n",
    "                                         to_max=('actualTakeOffTime','max'),\n",
    "                                         # fd_min=('flightDate','min'), \n",
    "                                         # fd_max=('flightDate','max'),\n",
    "                                         airportOfOrigin=('aerodromeOfDeparture','max')\n",
    "                                        )\n",
    "    # flights['week'] = pd.to_datetime(flights.fd_max).dt.isocalendar().week.values\n",
    "    # Determine the period of time \n",
    "    # flights['to_min'] = pd.to_datetime(flights.to_min, unit = 's').apply(assign_time_of_day)\n",
    "    # flights['to_max'] = pd.to_datetime(flights.to_max, unit = 's').apply(assign_time_of_day)\n",
    "    \n",
    "    return flights\n",
    "\n",
    "def stratify_data(data: pd.DataFrame, flights: pd.DataFrame) -> pd.DataFrame:\n",
    "    train, test = train_test_split(flights, train_size=train_ratio, random_state=42,\n",
    "                                   stratify=flights[['airportOfOrigin']], shuffle=True) # , 'week'\n",
    "    print(f'Trayectorias totales    {flights.shape[0]:>4}')\n",
    "    \n",
    "    train_data   = data[data.fpId.isin(train.index)].sort_values(['fpId', 'timestamp']).reset_index(drop=True)\n",
    "    test_data    = data[data.fpId.isin(test.index)].sort_values(['fpId', 'timestamp']).reset_index(drop=True)\n",
    "\n",
    "    train, validation = train_test_split(train, train_size=1-val_ratio, random_state=42, \n",
    "                                         stratify=train[['airportOfOrigin']], shuffle=True) \n",
    "    val_data   = train_data[train_data.fpId.isin(validation.index)].sort_values(['fpId', 'timestamp']).reset_index(drop=True)\n",
    "    train_data = train_data[train_data.fpId.isin(train.index)].sort_values(['fpId', 'timestamp']).reset_index(drop=True)\n",
    "    \n",
    "    print(f'   Trayectorias train   {train.shape[0]:>4}')\n",
    "    print(f'   Trayectorias test    {test.shape[0]:>4}')\n",
    "    print(f'   Trayectorias val     {validation.shape[0]:>4}')\n",
    "\n",
    "    return train_data, test_data, val_data"
   ]
  },
  {
   "cell_type": "code",
   "execution_count": null,
   "id": "854b81be",
   "metadata": {},
   "outputs": [],
   "source": [
    "# Ignorar loops\n",
    "sort_stats = pd.read_csv('rtaUtils/sort_stats.csv').drop_duplicates(subset='fpId', keep='last')\n",
    "allowed_flights = sort_stats[sort_stats.rotacion_maniobra<400]\n",
    "\n",
    "encoders = joblib.load(paths.utils_path / 'encoder.joblib')\n",
    "operators = encoders['operator']\n",
    "operators = operators.classes_"
   ]
  },
  {
   "cell_type": "code",
   "execution_count": null,
   "id": "604e9f76",
   "metadata": {},
   "outputs": [],
   "source": [
    "months = [f'2022{str(x).rjust(2,\"0\")}' for x in range(10,11)]\n",
    "airports = '*'\n",
    "for month in months:\n",
    "    print(month)\n",
    "    data = data_loading.load_clean_data(month, airports)\n",
    "    \n",
    "    ##########\n",
    "    data = data[data.fpId.isin(allowed_flights.fpId)]\n",
    "    data = data[data.operator.isin(operators)]\n",
    "    ##########\n",
    "    \n",
    "    flights = generate_flight_stats(data)\n",
    "    \n",
    "    train_data, test_data, val_data = stratify_data(data, flights)\n",
    "\n",
    "    train_data.to_parquet(paths.final_data_path / f'{month}.train.parquet')\n",
    "    test_data.to_parquet(paths.final_data_path / f'{month}.test.parquet')\n",
    "    val_data.to_parquet(paths.final_data_path / f'{month}.val.parquet')\n",
    "    \n",
    "#     data.to_parquet(paths.final_data_path / f'{month}.test.parquet')"
   ]
  },
  {
   "cell_type": "code",
   "execution_count": null,
   "id": "a68570d1",
   "metadata": {},
   "outputs": [],
   "source": []
  }
 ],
 "metadata": {
  "kernelspec": {
   "display_name": "Python 3 (ipykernel)",
   "language": "python",
   "name": "python3"
  },
  "language_info": {
   "codemirror_mode": {
    "name": "ipython",
    "version": 3
   },
   "file_extension": ".py",
   "mimetype": "text/x-python",
   "name": "python",
   "nbconvert_exporter": "python",
   "pygments_lexer": "ipython3",
   "version": "3.9.16"
  }
 },
 "nbformat": 4,
 "nbformat_minor": 5
}
